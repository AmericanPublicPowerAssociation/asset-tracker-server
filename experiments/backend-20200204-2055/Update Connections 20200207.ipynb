{
 "cells": [
  {
   "cell_type": "code",
   "execution_count": 1,
   "metadata": {},
   "outputs": [
    {
     "name": "stdout",
     "output_type": "stream",
     "text": [
      "2020-02-07 04:09:50,753 INFO sqlalchemy.engine.base.Engine SELECT CAST('test plain returns' AS VARCHAR(60)) AS anon_1\n",
      "2020-02-07 04:09:50,754 INFO sqlalchemy.engine.base.Engine ()\n",
      "2020-02-07 04:09:50,756 INFO sqlalchemy.engine.base.Engine SELECT CAST('test unicode returns' AS VARCHAR(60)) AS anon_1\n",
      "2020-02-07 04:09:50,757 INFO sqlalchemy.engine.base.Engine ()\n",
      "2020-02-07 04:09:50,766 INFO sqlalchemy.engine.base.Engine SELECT InitSpatialMetaData() AS \"InitSpatialMetaData_1\"\n",
      "2020-02-07 04:09:50,766 INFO sqlalchemy.engine.base.Engine ()\n"
     ]
    },
    {
     "data": {
      "text/plain": [
       "Engine(sqlite://)"
      ]
     },
     "execution_count": 1,
     "metadata": {},
     "output_type": "execute_result"
    }
   ],
   "source": [
    "from asset_tracker.models import load_spatialite_sqlite_extension\n",
    "from sqlalchemy import create_engine\n",
    "\n",
    "database_engine = create_engine('sqlite://', echo=True)\n",
    "load_spatialite_sqlite_extension(database_engine)"
   ]
  },
  {
   "cell_type": "code",
   "execution_count": 2,
   "metadata": {},
   "outputs": [],
   "source": [
    "from sqlalchemy import create_engine\n",
    "from sqlalchemy.orm import sessionmaker\n",
    "\n",
    "get_database_session = sessionmaker()\n",
    "get_database_session.configure(bind=database_engine)\n",
    "db = get_database_session()"
   ]
  },
  {
   "cell_type": "code",
   "execution_count": 3,
   "metadata": {},
   "outputs": [
    {
     "name": "stdout",
     "output_type": "stream",
     "text": [
      "2020-02-07 04:09:50,876 INFO sqlalchemy.engine.base.Engine PRAGMA table_info(\"asset\")\n",
      "2020-02-07 04:09:50,879 INFO sqlalchemy.engine.base.Engine ()\n",
      "2020-02-07 04:09:50,883 INFO sqlalchemy.engine.base.Engine PRAGMA table_info(\"bus\")\n",
      "2020-02-07 04:09:50,885 INFO sqlalchemy.engine.base.Engine ()\n",
      "2020-02-07 04:09:50,886 INFO sqlalchemy.engine.base.Engine PRAGMA table_info(\"connection\")\n",
      "2020-02-07 04:09:50,888 INFO sqlalchemy.engine.base.Engine ()\n",
      "2020-02-07 04:09:50,890 INFO sqlalchemy.engine.base.Engine PRAGMA table_info(\"line_type\")\n",
      "2020-02-07 04:09:50,891 INFO sqlalchemy.engine.base.Engine ()\n",
      "2020-02-07 04:09:50,894 INFO sqlalchemy.engine.base.Engine \n",
      "CREATE TABLE asset (\n",
      "\tid VARCHAR NOT NULL, \n",
      "\tcreation_datetime DATETIME, \n",
      "\tmodification_datetime DATETIME, \n",
      "\t_attributes BLOB, \n",
      "\tname VARCHAR, \n",
      "\ttype_code VARCHAR(11), \n",
      "\tCONSTRAINT pk_asset PRIMARY KEY (id), \n",
      "\tCONSTRAINT ck_asset_assettypecode CHECK (type_code IN ('LINE', 'METER', 'TRANSFORMER', 'SUBSTATION'))\n",
      ")\n",
      "\n",
      "\n",
      "2020-02-07 04:09:50,897 INFO sqlalchemy.engine.base.Engine ()\n",
      "2020-02-07 04:09:50,899 INFO sqlalchemy.engine.base.Engine COMMIT\n",
      "2020-02-07 04:09:50,901 INFO sqlalchemy.engine.base.Engine SELECT AddGeometryColumn(?, ?, ?, ?, ?) AS \"AddGeometryColumn_1\"\n",
      "2020-02-07 04:09:50,903 INFO sqlalchemy.engine.base.Engine ('asset', 'geometry', -1, 'GEOMETRY', 2)\n",
      "2020-02-07 04:09:50,909 INFO sqlalchemy.engine.base.Engine COMMIT\n",
      "2020-02-07 04:09:50,911 INFO sqlalchemy.engine.base.Engine SELECT CreateSpatialIndex(?, ?) AS \"CreateSpatialIndex_1\"\n",
      "2020-02-07 04:09:50,912 INFO sqlalchemy.engine.base.Engine ('asset', 'geometry')\n",
      "2020-02-07 04:09:50,916 INFO sqlalchemy.engine.base.Engine COMMIT\n",
      "2020-02-07 04:09:50,920 INFO sqlalchemy.engine.base.Engine \n",
      "CREATE TABLE bus (\n",
      "\tid VARCHAR NOT NULL, \n",
      "\tCONSTRAINT pk_bus PRIMARY KEY (id)\n",
      ")\n",
      "\n",
      "\n",
      "2020-02-07 04:09:50,921 INFO sqlalchemy.engine.base.Engine ()\n",
      "2020-02-07 04:09:50,925 INFO sqlalchemy.engine.base.Engine COMMIT\n",
      "2020-02-07 04:09:50,927 INFO sqlalchemy.engine.base.Engine \n",
      "CREATE TABLE line_type (\n",
      "\t_attributes BLOB, \n",
      "\tid VARCHAR NOT NULL, \n",
      "\tCONSTRAINT pk_line_type PRIMARY KEY (id)\n",
      ")\n",
      "\n",
      "\n",
      "2020-02-07 04:09:50,931 INFO sqlalchemy.engine.base.Engine ()\n",
      "2020-02-07 04:09:50,934 INFO sqlalchemy.engine.base.Engine COMMIT\n",
      "2020-02-07 04:09:50,936 INFO sqlalchemy.engine.base.Engine \n",
      "CREATE TABLE connection (\n",
      "\t_attributes BLOB, \n",
      "\tasset_id VARCHAR NOT NULL, \n",
      "\tbus_id VARCHAR NOT NULL, \n",
      "\tCONSTRAINT pk_connection PRIMARY KEY (asset_id, bus_id), \n",
      "\tCONSTRAINT fk_connection_asset_id_asset FOREIGN KEY(asset_id) REFERENCES asset (id), \n",
      "\tCONSTRAINT fk_connection_bus_id_bus FOREIGN KEY(bus_id) REFERENCES bus (id)\n",
      ")\n",
      "\n",
      "\n",
      "2020-02-07 04:09:50,937 INFO sqlalchemy.engine.base.Engine ()\n",
      "2020-02-07 04:09:50,939 INFO sqlalchemy.engine.base.Engine COMMIT\n"
     ]
    }
   ],
   "source": [
    "from asset_tracker.models.meta import Base\n",
    "Base.metadata.create_all(database_engine)"
   ]
  },
  {
   "cell_type": "code",
   "execution_count": 4,
   "metadata": {},
   "outputs": [],
   "source": [
    "from asset_tracker.models import Asset, Bus, Connection"
   ]
  },
  {
   "cell_type": "code",
   "execution_count": 5,
   "metadata": {},
   "outputs": [
    {
     "name": "stdout",
     "output_type": "stream",
     "text": [
      "2020-02-07 04:09:50,971 INFO sqlalchemy.engine.base.Engine BEGIN (implicit)\n",
      "2020-02-07 04:09:50,975 INFO sqlalchemy.engine.base.Engine INSERT INTO asset (id, creation_datetime, modification_datetime, _attributes, name, type_code, geometry) VALUES (?, ?, ?, ?, ?, ?, GeomFromEWKT(?))\n",
      "2020-02-07 04:09:50,977 INFO sqlalchemy.engine.base.Engine ('avqMeW3n', '2020-02-07 09:09:50.975622', None, None, None, None, None)\n"
     ]
    }
   ],
   "source": [
    "asset = Asset.make_unique_record(db)"
   ]
  },
  {
   "cell_type": "code",
   "execution_count": 6,
   "metadata": {},
   "outputs": [
    {
     "name": "stdout",
     "output_type": "stream",
     "text": [
      "2020-02-07 04:09:50,990 INFO sqlalchemy.engine.base.Engine INSERT INTO bus (id) VALUES (?)\n",
      "2020-02-07 04:09:50,991 INFO sqlalchemy.engine.base.Engine ('Jn37tLou',)\n"
     ]
    }
   ],
   "source": [
    "bus1 = Bus.make_unique_record(db)"
   ]
  },
  {
   "cell_type": "code",
   "execution_count": 7,
   "metadata": {},
   "outputs": [
    {
     "name": "stdout",
     "output_type": "stream",
     "text": [
      "2020-02-07 04:09:51,006 INFO sqlalchemy.engine.base.Engine INSERT INTO bus (id) VALUES (?)\n",
      "2020-02-07 04:09:51,007 INFO sqlalchemy.engine.base.Engine ('SabXrJO4',)\n"
     ]
    }
   ],
   "source": [
    "bus2 = Bus.make_unique_record(db)"
   ]
  },
  {
   "cell_type": "code",
   "execution_count": 8,
   "metadata": {},
   "outputs": [
    {
     "name": "stdout",
     "output_type": "stream",
     "text": [
      "2020-02-07 04:09:51,025 INFO sqlalchemy.engine.base.Engine SELECT connection._attributes AS connection__attributes, connection.asset_id AS connection_asset_id, connection.bus_id AS connection_bus_id \n",
      "FROM connection \n",
      "WHERE ? = connection.asset_id\n",
      "2020-02-07 04:09:51,026 INFO sqlalchemy.engine.base.Engine ('avqMeW3n',)\n"
     ]
    },
    {
     "data": {
      "text/plain": [
       "[]"
      ]
     },
     "execution_count": 8,
     "metadata": {},
     "output_type": "execute_result"
    }
   ],
   "source": [
    "asset.connections"
   ]
  },
  {
   "cell_type": "code",
   "execution_count": 9,
   "metadata": {},
   "outputs": [
    {
     "name": "stdout",
     "output_type": "stream",
     "text": [
      "hey\n",
      "hey\n"
     ]
    }
   ],
   "source": [
    "# connection1 = Connection(asset_id=asset.id, bus_id=bus1.id, attributes=None)\n",
    "# connection2 = Connection(asset_id=asset.id, bus_id=bus2.id, attributes={})\n",
    "\n",
    "connection1 = Connection(bus_id=bus1.id, attributes={})\n",
    "connection2 = Connection(bus_id=bus2.id)\n",
    "connection2.attributes = {}"
   ]
  },
  {
   "cell_type": "code",
   "execution_count": 10,
   "metadata": {},
   "outputs": [],
   "source": [
    "asset.connections = [connection1, connection2]"
   ]
  },
  {
   "cell_type": "code",
   "execution_count": 11,
   "metadata": {},
   "outputs": [],
   "source": [
    "db.add(asset)"
   ]
  },
  {
   "cell_type": "code",
   "execution_count": 12,
   "metadata": {},
   "outputs": [
    {
     "name": "stdout",
     "output_type": "stream",
     "text": [
      "2020-02-07 04:09:51,080 INFO sqlalchemy.engine.base.Engine INSERT INTO connection (_attributes, asset_id, bus_id) VALUES (?, ?, ?)\n",
      "2020-02-07 04:09:51,082 INFO sqlalchemy.engine.base.Engine ((None, 'avqMeW3n', 'Jn37tLou'), (None, 'avqMeW3n', 'SabXrJO4'))\n",
      "2020-02-07 04:09:51,084 INFO sqlalchemy.engine.base.Engine COMMIT\n"
     ]
    }
   ],
   "source": [
    "db.commit()"
   ]
  },
  {
   "cell_type": "code",
   "execution_count": 13,
   "metadata": {},
   "outputs": [
    {
     "name": "stdout",
     "output_type": "stream",
     "text": [
      "2020-02-07 04:07:26,872 INFO sqlalchemy.engine.base.Engine BEGIN (implicit)\n",
      "2020-02-07 04:07:26,876 INFO sqlalchemy.engine.base.Engine SELECT asset.id AS asset_id, asset.creation_datetime AS asset_creation_datetime, asset.modification_datetime AS asset_modification_datetime, asset._attributes AS asset__attributes, asset.name AS asset_name, asset.type_code AS asset_type_code, AsEWKB(asset.geometry) AS asset_geometry \n",
      "FROM asset \n",
      "WHERE asset.id = ?\n",
      "2020-02-07 04:07:26,877 INFO sqlalchemy.engine.base.Engine ('kSFkyysT',)\n",
      "2020-02-07 04:07:26,880 INFO sqlalchemy.engine.base.Engine SELECT connection._attributes AS connection__attributes, connection.asset_id AS connection_asset_id, connection.bus_id AS connection_bus_id \n",
      "FROM connection \n",
      "WHERE ? = connection.asset_id\n",
      "2020-02-07 04:07:26,882 INFO sqlalchemy.engine.base.Engine ('kSFkyysT',)\n"
     ]
    },
    {
     "data": {
      "text/plain": [
       "[<Connection(asset_id=kSFkyysT, bus_id=PjjMouW6)>,\n",
       " <Connection(asset_id=kSFkyysT, bus_id=fN4dh7pB)>]"
      ]
     },
     "execution_count": 13,
     "metadata": {},
     "output_type": "execute_result"
    }
   ],
   "source": [
    "asset.connections"
   ]
  },
  {
   "cell_type": "code",
   "execution_count": 14,
   "metadata": {},
   "outputs": [],
   "source": [
    "asset.connections = [connection1]"
   ]
  },
  {
   "cell_type": "code",
   "execution_count": 42,
   "metadata": {},
   "outputs": [],
   "source": [
    "db.add(asset)"
   ]
  },
  {
   "cell_type": "code",
   "execution_count": 43,
   "metadata": {},
   "outputs": [
    {
     "name": "stdout",
     "output_type": "stream",
     "text": [
      "2020-02-07 03:54:06,762 INFO sqlalchemy.engine.base.Engine DELETE FROM connection WHERE connection.asset_id = ? AND connection.bus_id = ?\n",
      "2020-02-07 03:54:06,763 INFO sqlalchemy.engine.base.Engine ('7eCbSfSa', 'D49kxoph')\n",
      "2020-02-07 03:54:06,765 INFO sqlalchemy.engine.base.Engine COMMIT\n"
     ]
    }
   ],
   "source": [
    "db.commit()"
   ]
  },
  {
   "cell_type": "code",
   "execution_count": null,
   "metadata": {},
   "outputs": [],
   "source": []
  }
 ],
 "metadata": {
  "kernelspec": {
   "display_name": "Python 3",
   "language": "python",
   "name": "python3"
  },
  "language_info": {
   "codemirror_mode": {
    "name": "ipython",
    "version": 3
   },
   "file_extension": ".py",
   "mimetype": "text/x-python",
   "name": "python",
   "nbconvert_exporter": "python",
   "pygments_lexer": "ipython3",
   "version": "3.7.6"
  }
 },
 "nbformat": 4,
 "nbformat_minor": 4
}
