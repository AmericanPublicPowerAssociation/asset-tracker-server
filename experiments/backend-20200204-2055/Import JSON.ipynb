{
 "cells": [
  {
   "cell_type": "code",
   "execution_count": null,
   "metadata": {},
   "outputs": [],
   "source": [
    "from os.path import abspath, dirname, exists, join\n",
    "configuration_path = join(dirname(dirname(abspath('.'))), 'development.ini')\n",
    "assert exists(configuration_path)"
   ]
  },
  {
   "cell_type": "code",
   "execution_count": 2,
   "metadata": {},
   "outputs": [
    {
     "data": {
      "text/plain": [
       "{'root': <pyramid.traversal.DefaultRootFactory at 0x7fe46dedfe10>,\n",
       " 'closer': <function pyramid.scripting.prepare.<locals>.closer()>,\n",
       " 'registry': <Registry asset_tracker>,\n",
       " 'request': <Request at 0x7fe46dedfd10 GET http://localhost/>,\n",
       " 'root_factory': pyramid.traversal.DefaultRootFactory,\n",
       " 'app': <pyramid.router.Router at 0x7fe46dec8490>}"
      ]
     },
     "execution_count": 2,
     "metadata": {},
     "output_type": "execute_result"
    }
   ],
   "source": [
    "from pyramid.paster import bootstrap\n",
    "env = bootstrap(configuration_path)\n",
    "env"
   ]
  },
  {
   "cell_type": "code",
   "execution_count": 7,
   "metadata": {},
   "outputs": [
    {
     "data": {
      "text/plain": [
       "<sqlalchemy.orm.session.Session at 0x7fe46d1b6650>"
      ]
     },
     "execution_count": 7,
     "metadata": {},
     "output_type": "execute_result"
    }
   ],
   "source": [
    "# Get database connection\n",
    "request = env['request']\n",
    "db = request.db\n",
    "db"
   ]
  },
  {
   "cell_type": "code",
   "execution_count": null,
   "metadata": {},
   "outputs": [],
   "source": [
    "# Load JSON\n",
    "# Parse JSON"
   ]
  }
 ],
 "metadata": {
  "kernelspec": {
   "display_name": "Python 3",
   "language": "python",
   "name": "python3"
  },
  "language_info": {
   "codemirror_mode": {
    "name": "ipython",
    "version": 3
   },
   "file_extension": ".py",
   "mimetype": "text/x-python",
   "name": "python",
   "nbconvert_exporter": "python",
   "pygments_lexer": "ipython3",
   "version": "3.7.6"
  }
 },
 "nbformat": 4,
 "nbformat_minor": 4
}
