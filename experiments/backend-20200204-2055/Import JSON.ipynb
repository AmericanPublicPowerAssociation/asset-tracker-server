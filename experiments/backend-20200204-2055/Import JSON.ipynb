{
 "cells": [
  {
   "cell_type": "code",
   "execution_count": 1,
   "metadata": {},
   "outputs": [],
   "source": [
    "from os.path import abspath, dirname, exists, join\n",
    "repository_folder = dirname(dirname(abspath('.')))\n",
    "configuration_path = join(repository_folder, 'development.ini')\n",
    "assert exists(configuration_path)"
   ]
  },
  {
   "cell_type": "code",
   "execution_count": 2,
   "metadata": {},
   "outputs": [
    {
     "data": {
      "text/plain": [
       "{'root': <pyramid.traversal.DefaultRootFactory at 0x7fbef5af1e90>,\n",
       " 'closer': <function pyramid.scripting.prepare.<locals>.closer()>,\n",
       " 'registry': <Registry asset_tracker>,\n",
       " 'request': <Request at 0x7fbef5af1d50 GET http://localhost/>,\n",
       " 'root_factory': pyramid.traversal.DefaultRootFactory,\n",
       " 'app': <pyramid.router.Router at 0x7fbef5aee310>}"
      ]
     },
     "execution_count": 2,
     "metadata": {},
     "output_type": "execute_result"
    }
   ],
   "source": [
    "from pyramid.paster import bootstrap\n",
    "env = bootstrap(configuration_path)\n",
    "env"
   ]
  },
  {
   "cell_type": "code",
   "execution_count": 3,
   "metadata": {},
   "outputs": [],
   "source": [
    "# Get database connection\n",
    "# request = env['request']\n",
    "# db = request.db\n",
    "# db"
   ]
  },
  {
   "cell_type": "code",
   "execution_count": 4,
   "metadata": {},
   "outputs": [],
   "source": [
    "from sqlalchemy import create_engine\n",
    "from sqlalchemy.orm import sessionmaker\n",
    "\n",
    "database_engine = create_engine('sqlite://', echo=True)\n",
    "get_database_session = sessionmaker()\n",
    "get_database_session.configure(bind=database_engine)\n",
    "db = get_database_session()"
   ]
  },
  {
   "cell_type": "code",
   "execution_count": 5,
   "metadata": {},
   "outputs": [
    {
     "name": "stdout",
     "output_type": "stream",
     "text": [
      "2020-02-05 18:52:54,419 INFO sqlalchemy.engine.base.Engine SELECT CAST('test plain returns' AS VARCHAR(60)) AS anon_1\n",
      "2020-02-05 18:52:54,420 INFO sqlalchemy.engine.base.Engine ()\n",
      "2020-02-05 18:52:54,422 INFO sqlalchemy.engine.base.Engine SELECT CAST('test unicode returns' AS VARCHAR(60)) AS anon_1\n",
      "2020-02-05 18:52:54,424 INFO sqlalchemy.engine.base.Engine ()\n",
      "2020-02-05 18:52:54,425 INFO sqlalchemy.engine.base.Engine PRAGMA table_info(\"asset\")\n",
      "2020-02-05 18:52:54,426 INFO sqlalchemy.engine.base.Engine ()\n",
      "2020-02-05 18:52:54,428 INFO sqlalchemy.engine.base.Engine PRAGMA table_info(\"bus\")\n",
      "2020-02-05 18:52:54,433 INFO sqlalchemy.engine.base.Engine ()\n",
      "2020-02-05 18:52:54,437 INFO sqlalchemy.engine.base.Engine PRAGMA table_info(\"connection\")\n",
      "2020-02-05 18:52:54,439 INFO sqlalchemy.engine.base.Engine ()\n",
      "2020-02-05 18:52:54,441 INFO sqlalchemy.engine.base.Engine PRAGMA table_info(\"line_type\")\n",
      "2020-02-05 18:52:54,442 INFO sqlalchemy.engine.base.Engine ()\n",
      "2020-02-05 18:52:54,446 INFO sqlalchemy.engine.base.Engine \n",
      "CREATE TABLE asset (\n",
      "\tcreation_datetime DATETIME, \n",
      "\tmodification_datetime DATETIME, \n",
      "\tid VARCHAR NOT NULL, \n",
      "\tname VARCHAR, \n",
      "\ttype_code VARCHAR(11), \n",
      "\tattributes BLOB, \n",
      "\tCONSTRAINT pk_asset PRIMARY KEY (id), \n",
      "\tCONSTRAINT ck_asset_assettypecode CHECK (type_code IN ('LINE', 'METER', 'TRANSFORMER', 'SUBSTATION'))\n",
      ")\n",
      "\n",
      "\n",
      "2020-02-05 18:52:54,448 INFO sqlalchemy.engine.base.Engine ()\n",
      "2020-02-05 18:52:54,449 INFO sqlalchemy.engine.base.Engine COMMIT\n",
      "2020-02-05 18:52:54,451 INFO sqlalchemy.engine.base.Engine \n",
      "CREATE TABLE bus (\n",
      "\tid VARCHAR NOT NULL, \n",
      "\tCONSTRAINT pk_bus PRIMARY KEY (id)\n",
      ")\n",
      "\n",
      "\n",
      "2020-02-05 18:52:54,453 INFO sqlalchemy.engine.base.Engine ()\n",
      "2020-02-05 18:52:54,455 INFO sqlalchemy.engine.base.Engine COMMIT\n",
      "2020-02-05 18:52:54,457 INFO sqlalchemy.engine.base.Engine \n",
      "CREATE TABLE line_type (\n",
      "\tid VARCHAR NOT NULL, \n",
      "\tattributes BLOB, \n",
      "\tCONSTRAINT pk_line_type PRIMARY KEY (id)\n",
      ")\n",
      "\n",
      "\n",
      "2020-02-05 18:52:54,458 INFO sqlalchemy.engine.base.Engine ()\n",
      "2020-02-05 18:52:54,460 INFO sqlalchemy.engine.base.Engine COMMIT\n",
      "2020-02-05 18:52:54,462 INFO sqlalchemy.engine.base.Engine \n",
      "CREATE TABLE connection (\n",
      "\tasset_id VARCHAR NOT NULL, \n",
      "\tbus_id VARCHAR NOT NULL, \n",
      "\tattributes BLOB, \n",
      "\tCONSTRAINT pk_connection PRIMARY KEY (asset_id, bus_id), \n",
      "\tCONSTRAINT fk_connection_asset_id_asset FOREIGN KEY(asset_id) REFERENCES asset (id), \n",
      "\tCONSTRAINT fk_connection_bus_id_bus FOREIGN KEY(bus_id) REFERENCES bus (id)\n",
      ")\n",
      "\n",
      "\n",
      "2020-02-05 18:52:54,465 INFO sqlalchemy.engine.base.Engine ()\n",
      "2020-02-05 18:52:54,468 INFO sqlalchemy.engine.base.Engine COMMIT\n"
     ]
    }
   ],
   "source": [
    "from asset_tracker.models.meta import Base\n",
    "Base.metadata.create_all(database_engine)"
   ]
  },
  {
   "cell_type": "code",
   "execution_count": 6,
   "metadata": {},
   "outputs": [],
   "source": [
    "# Load JSON\n",
    "import json\n",
    "datasets_folder = join(repository_folder, 'datasets')\n",
    "assets_json_path = join(datasets_folder, 'assets1.json')\n",
    "assets_geojson_path = join(datasets_folder, 'assets1.geojson')"
   ]
  },
  {
   "cell_type": "code",
   "execution_count": 7,
   "metadata": {},
   "outputs": [],
   "source": [
    "asset_dictionaries = json.load(open(assets_json_path, 'rt'))\n",
    "asset_geometries = json.load(open(assets_geojson_path, 'rt'))"
   ]
  },
  {
   "cell_type": "code",
   "execution_count": 8,
   "metadata": {},
   "outputs": [
    {
     "data": {
      "text/plain": [
       "[{'id': '1', 'typeCode': 's', 'name': 'Substation A'},\n",
       " {'id': '2',\n",
       "  'typeCode': 't',\n",
       "  'name': 'Substation Transformer 1',\n",
       "  'attributes': {'vendorName': 'Schneider Electric',\n",
       "   'productName': 'HVT36A',\n",
       "   'productVersion': '2.0.1',\n",
       "   'phaseCount': 3,\n",
       "   'windingCount': 2,\n",
       "   'winding1Winding2PercentReactance': 0.008},\n",
       "  'connections': [{'busId': 'Ai',\n",
       "    'attributes': {'connectionType': 'delta',\n",
       "     'baseVoltage': 115,\n",
       "     'baseVoltageUnit': 'kV',\n",
       "     'power': 5000,\n",
       "     'powerUnit': 'kVA',\n",
       "     'powerPercentResistance': 0.0005}},\n",
       "   {'busId': 'Ao',\n",
       "    'attributes': {'connectionType': 'wye',\n",
       "     'baseVoltage': 4.16,\n",
       "     'baseVoltageUnit': 'kV',\n",
       "     'power': 5000,\n",
       "     'powerUnit': 'kVA',\n",
       "     'powerPercentResistance': 0.0005}}]},\n",
       " {'id': '3',\n",
       "  'typeCode': 'm',\n",
       "  'name': 'Industrial Meter 1',\n",
       "  'attributes': {'vendorName': 'Schneider Electric',\n",
       "   'productName': 'SCH-MV10',\n",
       "   'productVersion': '10.5.7',\n",
       "   'phaseCount': 3,\n",
       "   'loadModel': 1},\n",
       "  'connections': [{'busId': 'L1o'}]},\n",
       " {'id': '4',\n",
       "  'typeCode': 'l',\n",
       "  'name': 'Line 1',\n",
       "  'attributes': {'phaseCount': 3,\n",
       "   'lineType': 'mtx601',\n",
       "   'lineLength': 2000,\n",
       "   'lengthUnit': 'ft'},\n",
       "  'connections': [{'busId': 'Ao'}, {'busId': 'L1o'}]}]"
      ]
     },
     "execution_count": 8,
     "metadata": {},
     "output_type": "execute_result"
    }
   ],
   "source": [
    "asset_dictionaries"
   ]
  },
  {
   "cell_type": "code",
   "execution_count": 9,
   "metadata": {},
   "outputs": [],
   "source": [
    "from asset_tracker.models import *"
   ]
  },
  {
   "cell_type": "code",
   "execution_count": 10,
   "metadata": {},
   "outputs": [
    {
     "name": "stdout",
     "output_type": "stream",
     "text": [
      "1\n",
      "2\n",
      "3\n",
      "4\n"
     ]
    }
   ],
   "source": [
    "# Print asset_id for each asset\n",
    "for asset_d in asset_dictionaries:\n",
    "    print(asset_d['id'])"
   ]
  },
  {
   "cell_type": "code",
   "execution_count": 11,
   "metadata": {},
   "outputs": [
    {
     "data": {
      "text/plain": [
       "<sqlalchemy.orm.session.Session at 0x7fbef5a01b10>"
      ]
     },
     "execution_count": 11,
     "metadata": {},
     "output_type": "execute_result"
    }
   ],
   "source": [
    "db"
   ]
  },
  {
   "cell_type": "code",
   "execution_count": 12,
   "metadata": {},
   "outputs": [
    {
     "name": "stdout",
     "output_type": "stream",
     "text": [
      "2020-02-05 18:52:54,571 INFO sqlalchemy.engine.base.Engine BEGIN (implicit)\n",
      "2020-02-05 18:52:54,575 INFO sqlalchemy.engine.base.Engine SELECT count(*) AS count_1 \n",
      "FROM (SELECT asset.creation_datetime AS asset_creation_datetime, asset.modification_datetime AS asset_modification_datetime, asset.id AS asset_id, asset.name AS asset_name, asset.type_code AS asset_type_code, asset.attributes AS asset_attributes \n",
      "FROM asset) AS anon_1\n",
      "2020-02-05 18:52:54,578 INFO sqlalchemy.engine.base.Engine ()\n",
      "0\n"
     ]
    }
   ],
   "source": [
    "import transaction\n",
    "\n",
    "with transaction.manager:\n",
    "    print(db.query(Asset).count())"
   ]
  },
  {
   "cell_type": "code",
   "execution_count": 13,
   "metadata": {},
   "outputs": [
    {
     "name": "stdout",
     "output_type": "stream",
     "text": [
      "2020-02-05 18:52:54,592 INFO sqlalchemy.engine.base.Engine SELECT asset.creation_datetime AS asset_creation_datetime, asset.modification_datetime AS asset_modification_datetime, asset.id AS asset_id, asset.name AS asset_name, asset.type_code AS asset_type_code, asset.attributes AS asset_attributes \n",
      "FROM asset\n",
      " LIMIT ? OFFSET ?\n",
      "2020-02-05 18:52:54,594 INFO sqlalchemy.engine.base.Engine (1, 0)\n",
      "None\n",
      "2020-02-05 18:52:54,597 INFO sqlalchemy.engine.base.Engine SELECT asset.creation_datetime AS asset_creation_datetime, asset.modification_datetime AS asset_modification_datetime, asset.id AS asset_id, asset.name AS asset_name, asset.type_code AS asset_type_code, asset.attributes AS asset_attributes \n",
      "FROM asset\n",
      " LIMIT ? OFFSET ?\n",
      "2020-02-05 18:52:54,602 INFO sqlalchemy.engine.base.Engine (1, 0)\n",
      "None\n",
      "2020-02-05 18:52:54,606 INFO sqlalchemy.engine.base.Engine SELECT asset.creation_datetime AS asset_creation_datetime, asset.modification_datetime AS asset_modification_datetime, asset.id AS asset_id, asset.name AS asset_name, asset.type_code AS asset_type_code, asset.attributes AS asset_attributes \n",
      "FROM asset\n",
      " LIMIT ? OFFSET ?\n",
      "2020-02-05 18:52:54,608 INFO sqlalchemy.engine.base.Engine (1, 0)\n",
      "None\n",
      "2020-02-05 18:52:54,611 INFO sqlalchemy.engine.base.Engine SELECT asset.creation_datetime AS asset_creation_datetime, asset.modification_datetime AS asset_modification_datetime, asset.id AS asset_id, asset.name AS asset_name, asset.type_code AS asset_type_code, asset.attributes AS asset_attributes \n",
      "FROM asset\n",
      " LIMIT ? OFFSET ?\n",
      "2020-02-05 18:52:54,612 INFO sqlalchemy.engine.base.Engine (1, 0)\n",
      "None\n"
     ]
    }
   ],
   "source": [
    "# Check if asset id exists in database for each asset\n",
    "for asset_d in asset_dictionaries:\n",
    "    asset_id = asset_d['id']\n",
    "    asset = db.query(Asset).first()\n",
    "    print(asset)"
   ]
  },
  {
   "cell_type": "code",
   "execution_count": 14,
   "metadata": {},
   "outputs": [
    {
     "name": "stdout",
     "output_type": "stream",
     "text": [
      "2020-02-05 18:52:54,624 INFO sqlalchemy.engine.base.Engine SELECT count(*) AS count_1 \n",
      "FROM (SELECT asset.creation_datetime AS asset_creation_datetime, asset.modification_datetime AS asset_modification_datetime, asset.id AS asset_id, asset.name AS asset_name, asset.type_code AS asset_type_code, asset.attributes AS asset_attributes \n",
      "FROM asset) AS anon_1\n",
      "2020-02-05 18:52:54,627 INFO sqlalchemy.engine.base.Engine ()\n"
     ]
    },
    {
     "data": {
      "text/plain": [
       "0"
      ]
     },
     "execution_count": 14,
     "metadata": {},
     "output_type": "execute_result"
    }
   ],
   "source": [
    "db.query(Asset).count()"
   ]
  },
  {
   "cell_type": "code",
   "execution_count": 15,
   "metadata": {},
   "outputs": [
    {
     "data": {
      "text/plain": [
       "{'id': '1', 'typeCode': 's', 'name': 'Substation A'}"
      ]
     },
     "execution_count": 15,
     "metadata": {},
     "output_type": "execute_result"
    }
   ],
   "source": [
    "asset_dictionaries[0]"
   ]
  },
  {
   "cell_type": "code",
   "execution_count": 16,
   "metadata": {},
   "outputs": [
    {
     "data": {
      "text/plain": [
       "{'id': '2',\n",
       " 'typeCode': 't',\n",
       " 'name': 'Substation Transformer 1',\n",
       " 'attributes': {'vendorName': 'Schneider Electric',\n",
       "  'productName': 'HVT36A',\n",
       "  'productVersion': '2.0.1',\n",
       "  'phaseCount': 3,\n",
       "  'windingCount': 2,\n",
       "  'winding1Winding2PercentReactance': 0.008},\n",
       " 'connections': [{'busId': 'Ai',\n",
       "   'attributes': {'connectionType': 'delta',\n",
       "    'baseVoltage': 115,\n",
       "    'baseVoltageUnit': 'kV',\n",
       "    'power': 5000,\n",
       "    'powerUnit': 'kVA',\n",
       "    'powerPercentResistance': 0.0005}},\n",
       "  {'busId': 'Ao',\n",
       "   'attributes': {'connectionType': 'wye',\n",
       "    'baseVoltage': 4.16,\n",
       "    'baseVoltageUnit': 'kV',\n",
       "    'power': 5000,\n",
       "    'powerUnit': 'kVA',\n",
       "    'powerPercentResistance': 0.0005}}]}"
      ]
     },
     "execution_count": 16,
     "metadata": {},
     "output_type": "execute_result"
    }
   ],
   "source": [
    "asset_dictionaries[1]"
   ]
  },
  {
   "cell_type": "code",
   "execution_count": 17,
   "metadata": {},
   "outputs": [
    {
     "name": "stdout",
     "output_type": "stream",
     "text": [
      "4\n"
     ]
    }
   ],
   "source": [
    "print(len(asset_dictionaries))"
   ]
  },
  {
   "cell_type": "code",
   "execution_count": 18,
   "metadata": {},
   "outputs": [],
   "source": [
    "asset_d = asset_dictionaries[1]"
   ]
  },
  {
   "cell_type": "code",
   "execution_count": 19,
   "metadata": {},
   "outputs": [
    {
     "data": {
      "text/plain": [
       "{'vendorName': 'Schneider Electric',\n",
       " 'productName': 'HVT36A',\n",
       " 'productVersion': '2.0.1',\n",
       " 'phaseCount': 3,\n",
       " 'windingCount': 2,\n",
       " 'winding1Winding2PercentReactance': 0.008}"
      ]
     },
     "execution_count": 19,
     "metadata": {},
     "output_type": "execute_result"
    }
   ],
   "source": [
    "asset_d['attributes']"
   ]
  },
  {
   "cell_type": "code",
   "execution_count": 20,
   "metadata": {},
   "outputs": [
    {
     "data": {
      "text/plain": [
       "[{'busId': 'Ai',\n",
       "  'attributes': {'connectionType': 'delta',\n",
       "   'baseVoltage': 115,\n",
       "   'baseVoltageUnit': 'kV',\n",
       "   'power': 5000,\n",
       "   'powerUnit': 'kVA',\n",
       "   'powerPercentResistance': 0.0005}},\n",
       " {'busId': 'Ao',\n",
       "  'attributes': {'connectionType': 'wye',\n",
       "   'baseVoltage': 4.16,\n",
       "   'baseVoltageUnit': 'kV',\n",
       "   'power': 5000,\n",
       "   'powerUnit': 'kVA',\n",
       "   'powerPercentResistance': 0.0005}}]"
      ]
     },
     "execution_count": 20,
     "metadata": {},
     "output_type": "execute_result"
    }
   ],
   "source": [
    "asset_d['connections']"
   ]
  },
  {
   "cell_type": "code",
   "execution_count": 21,
   "metadata": {},
   "outputs": [],
   "source": [
    "from asset_tracker.models import AssetTypeCode"
   ]
  },
  {
   "cell_type": "code",
   "execution_count": 22,
   "metadata": {},
   "outputs": [],
   "source": [
    "if {}: print('hey')"
   ]
  },
  {
   "cell_type": "code",
   "execution_count": 23,
   "metadata": {},
   "outputs": [
    {
     "data": {
      "text/plain": [
       "b'\\x80\\x03N.'"
      ]
     },
     "execution_count": 23,
     "metadata": {},
     "output_type": "execute_result"
    }
   ],
   "source": [
    "import pickle\n",
    "pickle.dumps(None)"
   ]
  },
  {
   "cell_type": "code",
   "execution_count": 24,
   "metadata": {},
   "outputs": [
    {
     "data": {
      "text/plain": [
       "b'\\x80\\x03}q\\x00.'"
      ]
     },
     "execution_count": 24,
     "metadata": {},
     "output_type": "execute_result"
    }
   ],
   "source": [
    "import pickle\n",
    "pickle.dumps({})"
   ]
  },
  {
   "cell_type": "code",
   "execution_count": 25,
   "metadata": {},
   "outputs": [
    {
     "name": "stdout",
     "output_type": "stream",
     "text": [
      "2020-02-05 18:52:55,900 INFO sqlalchemy.engine.base.Engine SELECT asset.creation_datetime AS asset_creation_datetime, asset.modification_datetime AS asset_modification_datetime, asset.id AS asset_id, asset.name AS asset_name, asset.type_code AS asset_type_code, asset.attributes AS asset_attributes \n",
      "FROM asset \n",
      "WHERE asset.id = ?\n",
      "2020-02-05 18:52:55,902 INFO sqlalchemy.engine.base.Engine ('1',)\n",
      "2020-02-05 18:52:55,905 INFO sqlalchemy.engine.base.Engine INSERT INTO asset (creation_datetime, modification_datetime, id, name, type_code, attributes) VALUES (?, ?, ?, ?, ?, ?)\n",
      "2020-02-05 18:52:55,907 INFO sqlalchemy.engine.base.Engine ('2020-02-05 23:52:55.905335', None, '0z5jc2l1', None, None, None)\n",
      "0z5jc2l1 AssetTypeCode.SUBSTATION Substation A\n",
      "2020-02-05 18:52:55,911 INFO sqlalchemy.engine.base.Engine UPDATE asset SET name=?, type_code=?, attributes=? WHERE asset.id = ?\n",
      "2020-02-05 18:52:55,912 INFO sqlalchemy.engine.base.Engine ('Substation A', 'SUBSTATION', <memory at 0x7fbef5a541f0>, '0z5jc2l1')\n",
      "2020-02-05 18:52:55,915 INFO sqlalchemy.engine.base.Engine SELECT asset.creation_datetime AS asset_creation_datetime, asset.modification_datetime AS asset_modification_datetime, asset.id AS asset_id, asset.name AS asset_name, asset.type_code AS asset_type_code, asset.attributes AS asset_attributes \n",
      "FROM asset \n",
      "WHERE asset.id = ?\n",
      "2020-02-05 18:52:55,916 INFO sqlalchemy.engine.base.Engine ('2',)\n",
      "2020-02-05 18:52:55,918 INFO sqlalchemy.engine.base.Engine INSERT INTO asset (creation_datetime, modification_datetime, id, name, type_code, attributes) VALUES (?, ?, ?, ?, ?, ?)\n",
      "2020-02-05 18:52:55,919 INFO sqlalchemy.engine.base.Engine ('2020-02-05 23:52:55.918371', None, 'Rv3i7Sqk', None, None, None)\n",
      "Rv3i7Sqk AssetTypeCode.TRANSFORMER Substation Transformer 1\n",
      "2020-02-05 18:52:55,923 INFO sqlalchemy.engine.base.Engine UPDATE asset SET name=?, type_code=?, attributes=? WHERE asset.id = ?\n",
      "2020-02-05 18:52:55,924 INFO sqlalchemy.engine.base.Engine ('Substation Transformer 1', 'TRANSFORMER', <memory at 0x7fbef5a541f0>, 'Rv3i7Sqk')\n",
      "2020-02-05 18:52:55,926 INFO sqlalchemy.engine.base.Engine SELECT asset.creation_datetime AS asset_creation_datetime, asset.modification_datetime AS asset_modification_datetime, asset.id AS asset_id, asset.name AS asset_name, asset.type_code AS asset_type_code, asset.attributes AS asset_attributes \n",
      "FROM asset \n",
      "WHERE asset.id = ?\n",
      "2020-02-05 18:52:55,928 INFO sqlalchemy.engine.base.Engine ('3',)\n",
      "2020-02-05 18:52:55,930 INFO sqlalchemy.engine.base.Engine INSERT INTO asset (creation_datetime, modification_datetime, id, name, type_code, attributes) VALUES (?, ?, ?, ?, ?, ?)\n",
      "2020-02-05 18:52:55,931 INFO sqlalchemy.engine.base.Engine ('2020-02-05 23:52:55.930058', None, 'nQ2PpZvJ', None, None, None)\n",
      "nQ2PpZvJ AssetTypeCode.METER Industrial Meter 1\n",
      "2020-02-05 18:52:55,933 INFO sqlalchemy.engine.base.Engine UPDATE asset SET name=?, type_code=?, attributes=? WHERE asset.id = ?\n",
      "2020-02-05 18:52:55,934 INFO sqlalchemy.engine.base.Engine ('Industrial Meter 1', 'METER', <memory at 0x7fbef5c1dbb0>, 'nQ2PpZvJ')\n",
      "2020-02-05 18:52:55,937 INFO sqlalchemy.engine.base.Engine SELECT asset.creation_datetime AS asset_creation_datetime, asset.modification_datetime AS asset_modification_datetime, asset.id AS asset_id, asset.name AS asset_name, asset.type_code AS asset_type_code, asset.attributes AS asset_attributes \n",
      "FROM asset \n",
      "WHERE asset.id = ?\n",
      "2020-02-05 18:52:55,938 INFO sqlalchemy.engine.base.Engine ('4',)\n",
      "2020-02-05 18:52:55,940 INFO sqlalchemy.engine.base.Engine INSERT INTO asset (creation_datetime, modification_datetime, id, name, type_code, attributes) VALUES (?, ?, ?, ?, ?, ?)\n",
      "2020-02-05 18:52:55,941 INFO sqlalchemy.engine.base.Engine ('2020-02-05 23:52:55.940050', None, 'IK6eDAx8', None, None, None)\n",
      "IK6eDAx8 AssetTypeCode.LINE Line 1\n"
     ]
    }
   ],
   "source": [
    "# Check if asset id exists in database for each asset\n",
    "asset_id_by_temporary_id = {}\n",
    "\n",
    "for asset_d in asset_dictionaries:\n",
    "    asset_id = asset_d['id']\n",
    "    try:\n",
    "        asset_type_code = AssetTypeCode(asset_d['typeCode'])\n",
    "    except ValueError:\n",
    "        # !!! we have an unrecognized type code\n",
    "        pass\n",
    "    asset_name = asset_d['name']\n",
    "    asset_attributes = asset_d.get('attributes', {})\n",
    "    \n",
    "    if asset_id in asset_id_by_temporary_id:\n",
    "        asset_id = asset_id_by_temporary_id[asset_id]\n",
    "    asset = db.query(Asset).get(asset_id)\n",
    "    if not asset:\n",
    "        asset = Asset.make_unique_record(db)\n",
    "        asset_id_by_temporary_id[asset_id] = asset.id\n",
    "        asset_id = asset.id\n",
    "    asset.type_code = asset_type_code\n",
    "    asset.name = asset_name\n",
    "    asset.attributes = asset_attributes\n",
    "    \n",
    "    print(asset.id, asset.type_code, asset.name)\n",
    "    db.add(asset)\n",
    "# db.commit()"
   ]
  },
  {
   "cell_type": "code",
   "execution_count": 26,
   "metadata": {},
   "outputs": [
    {
     "data": {
      "text/plain": [
       "{'1': '0z5jc2l1', '2': 'Rv3i7Sqk', '3': 'nQ2PpZvJ', '4': 'IK6eDAx8'}"
      ]
     },
     "execution_count": 26,
     "metadata": {},
     "output_type": "execute_result"
    }
   ],
   "source": [
    "asset_id_by_temporary_id"
   ]
  },
  {
   "cell_type": "code",
   "execution_count": 27,
   "metadata": {},
   "outputs": [
    {
     "data": {
      "text/plain": [
       "{'phaseCount': 3, 'lineType': 'mtx601', 'lineLength': 2000, 'lengthUnit': 'ft'}"
      ]
     },
     "execution_count": 27,
     "metadata": {},
     "output_type": "execute_result"
    }
   ],
   "source": [
    "asset.attributes"
   ]
  },
  {
   "cell_type": "code",
   "execution_count": 28,
   "metadata": {},
   "outputs": [],
   "source": [
    "# AssetTypeCode('x')"
   ]
  },
  {
   "cell_type": "code",
   "execution_count": 29,
   "metadata": {},
   "outputs": [
    {
     "data": {
      "text/plain": [
       "'l'"
      ]
     },
     "execution_count": 29,
     "metadata": {},
     "output_type": "execute_result"
    }
   ],
   "source": [
    "asset.type_code.value"
   ]
  },
  {
   "cell_type": "code",
   "execution_count": 30,
   "metadata": {},
   "outputs": [
    {
     "name": "stdout",
     "output_type": "stream",
     "text": [
      "2020-02-05 18:53:23,242 INFO sqlalchemy.engine.base.Engine UPDATE asset SET name=?, type_code=?, attributes=? WHERE asset.id = ?\n",
      "2020-02-05 18:53:23,244 INFO sqlalchemy.engine.base.Engine ('Line 1', 'LINE', <memory at 0x7fbef5c1dbb0>, 'IK6eDAx8')\n",
      "2020-02-05 18:53:23,247 INFO sqlalchemy.engine.base.Engine SELECT count(*) AS count_1 \n",
      "FROM (SELECT asset.creation_datetime AS asset_creation_datetime, asset.modification_datetime AS asset_modification_datetime, asset.id AS asset_id, asset.name AS asset_name, asset.type_code AS asset_type_code, asset.attributes AS asset_attributes \n",
      "FROM asset) AS anon_1\n",
      "2020-02-05 18:53:23,248 INFO sqlalchemy.engine.base.Engine ()\n"
     ]
    },
    {
     "data": {
      "text/plain": [
       "4"
      ]
     },
     "execution_count": 30,
     "metadata": {},
     "output_type": "execute_result"
    }
   ],
   "source": [
    "db.query(Asset).count()"
   ]
  },
  {
   "cell_type": "code",
   "execution_count": 31,
   "metadata": {},
   "outputs": [],
   "source": [
    "# For each asset,\n",
    "    # Save asset in database"
   ]
  },
  {
   "cell_type": "code",
   "execution_count": 32,
   "metadata": {},
   "outputs": [
    {
     "data": {
      "text/plain": [
       "'XohMdSyDkX'"
      ]
     },
     "execution_count": 32,
     "metadata": {},
     "output_type": "execute_result"
    }
   ],
   "source": [
    "from invisibleroads_macros_security import make_random_string\n",
    "make_random_string(10)"
   ]
  },
  {
   "cell_type": "code",
   "execution_count": 33,
   "metadata": {},
   "outputs": [
    {
     "data": {
      "text/plain": [
       "<MyEnum.one: 1>"
      ]
     },
     "execution_count": 33,
     "metadata": {},
     "output_type": "execute_result"
    }
   ],
   "source": [
    "from enum import Enum\n",
    "\n",
    "class MyEnum(Enum):\n",
    "    one = 1\n",
    "    two = 2\n",
    "    three = 3\n",
    "\n",
    "MyEnum.one"
   ]
  },
  {
   "cell_type": "code",
   "execution_count": 34,
   "metadata": {},
   "outputs": [],
   "source": [
    "import enum\n",
    "from sqlalchemy.types import Enum\n",
    "\n",
    "class AssetTypeCode(enum.Enum):\n",
    "    LINE = 'l'\n",
    "    METER = 'm'\n",
    "    TRANSFORMER = 't'\n",
    "    SUBSTATION = 's'"
   ]
  },
  {
   "cell_type": "code",
   "execution_count": 35,
   "metadata": {},
   "outputs": [
    {
     "data": {
      "text/plain": [
       "[{'busId': 'Ai',\n",
       "  'attributes': {'connectionType': 'delta',\n",
       "   'baseVoltage': 115,\n",
       "   'baseVoltageUnit': 'kV',\n",
       "   'power': 5000,\n",
       "   'powerUnit': 'kVA',\n",
       "   'powerPercentResistance': 0.0005}},\n",
       " {'busId': 'Ao',\n",
       "  'attributes': {'connectionType': 'wye',\n",
       "   'baseVoltage': 4.16,\n",
       "   'baseVoltageUnit': 'kV',\n",
       "   'power': 5000,\n",
       "   'powerUnit': 'kVA',\n",
       "   'powerPercentResistance': 0.0005}}]"
      ]
     },
     "execution_count": 35,
     "metadata": {},
     "output_type": "execute_result"
    }
   ],
   "source": [
    "asset_d = asset_dictionaries[1]\n",
    "asset_d['connections']"
   ]
  },
  {
   "cell_type": "code",
   "execution_count": 36,
   "metadata": {},
   "outputs": [
    {
     "name": "stdout",
     "output_type": "stream",
     "text": [
      "2020-02-05 18:53:28,564 INFO sqlalchemy.engine.base.Engine SELECT connection.asset_id AS connection_asset_id, connection.bus_id AS connection_bus_id, connection.attributes AS connection_attributes \n",
      "FROM connection \n",
      "WHERE connection.asset_id = ? AND connection.bus_id = ?\n",
      "2020-02-05 18:53:28,566 INFO sqlalchemy.engine.base.Engine (1, 2)\n"
     ]
    }
   ],
   "source": [
    "db.query(Connection).get({'asset_id': 1, 'bus_id': 2})"
   ]
  },
  {
   "cell_type": "code",
   "execution_count": 37,
   "metadata": {},
   "outputs": [
    {
     "name": "stdout",
     "output_type": "stream",
     "text": [
      "2020-02-05 18:55:52,381 INFO sqlalchemy.engine.base.Engine SELECT asset.creation_datetime AS asset_creation_datetime, asset.modification_datetime AS asset_modification_datetime, asset.id AS asset_id, asset.name AS asset_name, asset.type_code AS asset_type_code, asset.attributes AS asset_attributes \n",
      "FROM asset \n",
      "WHERE asset.id = ?\n",
      "2020-02-05 18:55:52,382 INFO sqlalchemy.engine.base.Engine ('0z5jc2l1',)\n",
      "2020-02-05 18:55:52,386 INFO sqlalchemy.engine.base.Engine SELECT asset.creation_datetime AS asset_creation_datetime, asset.modification_datetime AS asset_modification_datetime, asset.id AS asset_id, asset.name AS asset_name, asset.type_code AS asset_type_code, asset.attributes AS asset_attributes \n",
      "FROM asset \n",
      "WHERE asset.id = ?\n",
      "2020-02-05 18:55:52,387 INFO sqlalchemy.engine.base.Engine ('Rv3i7Sqk',)\n",
      "2020-02-05 18:55:52,390 INFO sqlalchemy.engine.base.Engine SELECT bus.id AS bus_id \n",
      "FROM bus \n",
      "WHERE bus.id = ?\n",
      "2020-02-05 18:55:52,391 INFO sqlalchemy.engine.base.Engine ('Ai',)\n",
      "2020-02-05 18:55:52,393 INFO sqlalchemy.engine.base.Engine INSERT INTO bus (id) VALUES (?)\n",
      "2020-02-05 18:55:52,394 INFO sqlalchemy.engine.base.Engine ('qxHdOpTD',)\n",
      "2020-02-05 18:55:52,397 INFO sqlalchemy.engine.base.Engine SELECT connection.asset_id AS connection_asset_id, connection.bus_id AS connection_bus_id, connection.attributes AS connection_attributes \n",
      "FROM connection \n",
      "WHERE connection.asset_id = ? AND connection.bus_id = ?\n",
      "2020-02-05 18:55:52,398 INFO sqlalchemy.engine.base.Engine ('Rv3i7Sqk', 'qxHdOpTD')\n",
      "2020-02-05 18:55:52,400 INFO sqlalchemy.engine.base.Engine INSERT INTO connection (asset_id, bus_id, attributes) VALUES (?, ?, ?)\n",
      "2020-02-05 18:55:52,401 INFO sqlalchemy.engine.base.Engine ('Rv3i7Sqk', 'qxHdOpTD', <memory at 0x7fbef5c1d2c0>)\n",
      "2020-02-05 18:55:52,404 INFO sqlalchemy.engine.base.Engine SELECT bus.id AS bus_id \n",
      "FROM bus \n",
      "WHERE bus.id = ?\n",
      "2020-02-05 18:55:52,405 INFO sqlalchemy.engine.base.Engine ('Ao',)\n",
      "2020-02-05 18:55:52,407 INFO sqlalchemy.engine.base.Engine INSERT INTO bus (id) VALUES (?)\n",
      "2020-02-05 18:55:52,408 INFO sqlalchemy.engine.base.Engine ('M9tyXPTd',)\n",
      "2020-02-05 18:55:52,410 INFO sqlalchemy.engine.base.Engine SELECT connection.asset_id AS connection_asset_id, connection.bus_id AS connection_bus_id, connection.attributes AS connection_attributes \n",
      "FROM connection \n",
      "WHERE connection.asset_id = ? AND connection.bus_id = ?\n",
      "2020-02-05 18:55:52,412 INFO sqlalchemy.engine.base.Engine ('Rv3i7Sqk', 'M9tyXPTd')\n",
      "2020-02-05 18:55:52,414 INFO sqlalchemy.engine.base.Engine INSERT INTO connection (asset_id, bus_id, attributes) VALUES (?, ?, ?)\n",
      "2020-02-05 18:55:52,415 INFO sqlalchemy.engine.base.Engine ('Rv3i7Sqk', 'M9tyXPTd', <memory at 0x7fbef5c1de20>)\n",
      "2020-02-05 18:55:52,416 INFO sqlalchemy.engine.base.Engine SELECT asset.creation_datetime AS asset_creation_datetime, asset.modification_datetime AS asset_modification_datetime, asset.id AS asset_id, asset.name AS asset_name, asset.type_code AS asset_type_code, asset.attributes AS asset_attributes \n",
      "FROM asset \n",
      "WHERE asset.id = ?\n",
      "2020-02-05 18:55:52,417 INFO sqlalchemy.engine.base.Engine ('nQ2PpZvJ',)\n",
      "2020-02-05 18:55:52,419 INFO sqlalchemy.engine.base.Engine SELECT bus.id AS bus_id \n",
      "FROM bus \n",
      "WHERE bus.id = ?\n",
      "2020-02-05 18:55:52,420 INFO sqlalchemy.engine.base.Engine ('L1o',)\n",
      "2020-02-05 18:55:52,421 INFO sqlalchemy.engine.base.Engine INSERT INTO bus (id) VALUES (?)\n",
      "2020-02-05 18:55:52,422 INFO sqlalchemy.engine.base.Engine ('ZGd5YNIF',)\n",
      "2020-02-05 18:55:52,424 INFO sqlalchemy.engine.base.Engine SELECT connection.asset_id AS connection_asset_id, connection.bus_id AS connection_bus_id, connection.attributes AS connection_attributes \n",
      "FROM connection \n",
      "WHERE connection.asset_id = ? AND connection.bus_id = ?\n",
      "2020-02-05 18:55:52,425 INFO sqlalchemy.engine.base.Engine ('nQ2PpZvJ', 'ZGd5YNIF')\n",
      "2020-02-05 18:55:52,427 INFO sqlalchemy.engine.base.Engine INSERT INTO connection (asset_id, bus_id, attributes) VALUES (?, ?, ?)\n",
      "2020-02-05 18:55:52,428 INFO sqlalchemy.engine.base.Engine ('nQ2PpZvJ', 'ZGd5YNIF', <memory at 0x7fbef5c1d2c0>)\n",
      "2020-02-05 18:55:52,429 INFO sqlalchemy.engine.base.Engine SELECT bus.id AS bus_id \n",
      "FROM bus \n",
      "WHERE bus.id = ?\n",
      "2020-02-05 18:55:52,431 INFO sqlalchemy.engine.base.Engine ('M9tyXPTd',)\n",
      "2020-02-05 18:55:52,433 INFO sqlalchemy.engine.base.Engine SELECT connection.asset_id AS connection_asset_id, connection.bus_id AS connection_bus_id, connection.attributes AS connection_attributes \n",
      "FROM connection \n",
      "WHERE connection.asset_id = ? AND connection.bus_id = ?\n",
      "2020-02-05 18:55:52,433 INFO sqlalchemy.engine.base.Engine ('IK6eDAx8', 'M9tyXPTd')\n",
      "2020-02-05 18:55:52,435 INFO sqlalchemy.engine.base.Engine INSERT INTO connection (asset_id, bus_id, attributes) VALUES (?, ?, ?)\n",
      "2020-02-05 18:55:52,436 INFO sqlalchemy.engine.base.Engine ('IK6eDAx8', 'M9tyXPTd', <memory at 0x7fbef5c1d2c0>)\n",
      "2020-02-05 18:55:52,438 INFO sqlalchemy.engine.base.Engine SELECT bus.id AS bus_id \n",
      "FROM bus \n",
      "WHERE bus.id = ?\n",
      "2020-02-05 18:55:52,443 INFO sqlalchemy.engine.base.Engine ('ZGd5YNIF',)\n",
      "2020-02-05 18:55:52,446 INFO sqlalchemy.engine.base.Engine SELECT connection.asset_id AS connection_asset_id, connection.bus_id AS connection_bus_id, connection.attributes AS connection_attributes \n",
      "FROM connection \n",
      "WHERE connection.asset_id = ? AND connection.bus_id = ?\n",
      "2020-02-05 18:55:52,448 INFO sqlalchemy.engine.base.Engine ('IK6eDAx8', 'ZGd5YNIF')\n"
     ]
    }
   ],
   "source": [
    "from asset_tracker.models import Bus, Connection\n",
    "\n",
    "bus_id_by_temporary_id = {}\n",
    "\n",
    "for asset_d in asset_dictionaries:\n",
    "    asset_id = asset_d['id']\n",
    "    if asset_id in asset_id_by_temporary_id:\n",
    "        asset_id = asset_id_by_temporary_id[asset_id]\n",
    "    asset = db.query(Asset).get(asset_id)\n",
    "    for connection_d in asset_d.get('connections', []):\n",
    "        bus_id = connection_d['busId']\n",
    "        # If we recognize a temporary id,\n",
    "        if bus_id in bus_id_by_temporary_id:\n",
    "            # Use the permanent id\n",
    "            bus_id = bus_id_by_temporary_id[bus_id] \n",
    "        bus = db.query(Bus).get(bus_id)\n",
    "        if not bus:\n",
    "            bus = Bus.make_unique_record(db)\n",
    "            # Link temporary id to permanent id\n",
    "            bus_id_by_temporary_id[bus_id] = bus.id\n",
    "            bus_id = bus.id\n",
    "        db.add(bus)\n",
    "        connection = db.query(Connection).get({'asset_id': asset_id, 'bus_id': bus_id})\n",
    "        if not connection:\n",
    "            connection = Connection(asset_id=asset_id, bus_id=bus_id)\n",
    "        connection.attributes = connection_d.get('attributes', {})\n",
    "        db.add(connection)\n",
    "        # print(bus_id, connection.attributes)"
   ]
  },
  {
   "cell_type": "code",
   "execution_count": 39,
   "metadata": {},
   "outputs": [
    {
     "name": "stdout",
     "output_type": "stream",
     "text": [
      "2020-02-05 18:56:40,347 INFO sqlalchemy.engine.base.Engine SELECT asset.creation_datetime AS asset_creation_datetime, asset.modification_datetime AS asset_modification_datetime, asset.id AS asset_id, asset.name AS asset_name, asset.type_code AS asset_type_code, asset.attributes AS asset_attributes \n",
      "FROM asset\n",
      "2020-02-05 18:56:40,352 INFO sqlalchemy.engine.base.Engine ()\n",
      "2020-02-05 18:56:40,354 INFO sqlalchemy.engine.base.Engine SELECT connection.asset_id AS connection_asset_id, connection.bus_id AS connection_bus_id, connection.attributes AS connection_attributes \n",
      "FROM connection \n",
      "WHERE ? = connection.asset_id\n",
      "2020-02-05 18:56:40,355 INFO sqlalchemy.engine.base.Engine ('0z5jc2l1',)\n",
      "!!! 0z5jc2l1 {} []\n",
      "2020-02-05 18:56:40,358 INFO sqlalchemy.engine.base.Engine SELECT connection.asset_id AS connection_asset_id, connection.bus_id AS connection_bus_id, connection.attributes AS connection_attributes \n",
      "FROM connection \n",
      "WHERE ? = connection.asset_id\n",
      "2020-02-05 18:56:40,359 INFO sqlalchemy.engine.base.Engine ('Rv3i7Sqk',)\n",
      "!!! Rv3i7Sqk {'vendorName': 'Schneider Electric', 'productName': 'HVT36A', 'productVersion': '2.0.1', 'phaseCount': 3, 'windingCount': 2, 'winding1Winding2PercentReactance': 0.008} [<Connection(asset_id=Rv3i7Sqk, bus_id=M9tyXPTd)>, <Connection(asset_id=Rv3i7Sqk, bus_id=qxHdOpTD)>]\n",
      "{'connectionType': 'wye', 'baseVoltage': 4.16, 'baseVoltageUnit': 'kV', 'power': 5000, 'powerUnit': 'kVA', 'powerPercentResistance': 0.0005}\n",
      "{'connectionType': 'delta', 'baseVoltage': 115, 'baseVoltageUnit': 'kV', 'power': 5000, 'powerUnit': 'kVA', 'powerPercentResistance': 0.0005}\n",
      "2020-02-05 18:56:40,362 INFO sqlalchemy.engine.base.Engine SELECT connection.asset_id AS connection_asset_id, connection.bus_id AS connection_bus_id, connection.attributes AS connection_attributes \n",
      "FROM connection \n",
      "WHERE ? = connection.asset_id\n",
      "2020-02-05 18:56:40,363 INFO sqlalchemy.engine.base.Engine ('nQ2PpZvJ',)\n",
      "!!! nQ2PpZvJ {'vendorName': 'Schneider Electric', 'productName': 'SCH-MV10', 'productVersion': '10.5.7', 'phaseCount': 3, 'loadModel': 1} [<Connection(asset_id=nQ2PpZvJ, bus_id=ZGd5YNIF)>]\n",
      "{}\n",
      "!!! IK6eDAx8 {'phaseCount': 3, 'lineType': 'mtx601', 'lineLength': 2000, 'lengthUnit': 'ft'} [<Connection(asset_id=IK6eDAx8, bus_id=M9tyXPTd)>, <Connection(asset_id=IK6eDAx8, bus_id=ZGd5YNIF)>]\n",
      "{}\n",
      "{}\n"
     ]
    }
   ],
   "source": [
    "for asset in db.query(Asset):\n",
    "    print('!!!', asset.id, asset.attributes, asset.connections)\n",
    "    for connection in asset.connections:\n",
    "        print(connection.attributes)"
   ]
  },
  {
   "cell_type": "code",
   "execution_count": null,
   "metadata": {},
   "outputs": [],
   "source": []
  }
 ],
 "metadata": {
  "kernelspec": {
   "display_name": "Python 3",
   "language": "python",
   "name": "python3"
  },
  "language_info": {
   "codemirror_mode": {
    "name": "ipython",
    "version": 3
   },
   "file_extension": ".py",
   "mimetype": "text/x-python",
   "name": "python",
   "nbconvert_exporter": "python",
   "pygments_lexer": "ipython3",
   "version": "3.7.6"
  }
 },
 "nbformat": 4,
 "nbformat_minor": 4
}
