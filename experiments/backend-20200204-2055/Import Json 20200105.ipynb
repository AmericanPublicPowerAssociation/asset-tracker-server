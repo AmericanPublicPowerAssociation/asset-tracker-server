{
 "cells": [
  {
   "cell_type": "code",
   "execution_count": 7,
   "metadata": {},
   "outputs": [],
   "source": [
    "from os.path import abspath, dirname, exists, join\n",
    "repository_folder = dirname(dirname(abspath('.')))\n",
    "configuration_path = join(repository_folder, 'development.ini')\n",
    "assert exists(configuration_path)"
   ]
  },
  {
   "cell_type": "code",
   "execution_count": 8,
   "metadata": {},
   "outputs": [
    {
     "data": {
      "text/plain": [
       "{'root': <pyramid.traversal.DefaultRootFactory at 0x7fc229d2ad50>,\n",
       " 'closer': <function pyramid.scripting.prepare.<locals>.closer()>,\n",
       " 'registry': <Registry asset_tracker>,\n",
       " 'request': <Request at 0x7fc229d2af10 GET http://localhost/>,\n",
       " 'root_factory': pyramid.traversal.DefaultRootFactory,\n",
       " 'app': <pyramid.router.Router at 0x7fc256289d90>}"
      ]
     },
     "execution_count": 8,
     "metadata": {},
     "output_type": "execute_result"
    }
   ],
   "source": [
    "from pyramid.paster import bootstrap\n",
    "env = bootstrap(configuration_path)\n",
    "env"
   ]
  },
  {
   "cell_type": "code",
   "execution_count": null,
   "metadata": {},
   "outputs": [],
   "source": [
    "# Get database connection\n",
    "# request = env['request']\n",
    "# db = request.db\n",
    "# db"
   ]
  },
  {
   "cell_type": "code",
   "execution_count": null,
   "metadata": {},
   "outputs": [],
   "source": [
    "from sqlalchemy import create_engine\n",
    "from sqlalchemy.orm import sessionmaker\n",
    "\n",
    "database_engine = create_engine('sqlite://', echo=True)\n",
    "get_database_session = sessionmaker()\n",
    "get_database_session.configure(bind=database_engine)\n",
    "db = get_database_session()"
   ]
  },
  {
   "cell_type": "code",
   "execution_count": null,
   "metadata": {},
   "outputs": [],
   "source": [
    "from asset_tracker.models.meta import Base\n",
    "Base.metadata.create_all(database_engine)"
   ]
  },
  {
   "cell_type": "code",
   "execution_count": null,
   "metadata": {},
   "outputs": [],
   "source": [
    "# Load JSON\n",
    "import json\n",
    "datasets_folder = join(repository_folder, 'datasets')\n",
    "assets_json_path = join(datasets_folder, 'assets1.json')\n",
    "assets_geojson_path = join(datasets_folder, 'assets1.geojson')"
   ]
  },
  {
   "cell_type": "code",
   "execution_count": null,
   "metadata": {},
   "outputs": [],
   "source": [
    "asset_dictionaries = json.load(open(assets_json_path, 'rt'))\n",
    "asset_feature_collection = json.load(open(assets_geojson_path, 'rt'))"
   ]
  },
  {
   "cell_type": "code",
   "execution_count": null,
   "metadata": {},
   "outputs": [],
   "source": [
    "asset_feature_collection.keys()"
   ]
  },
  {
   "cell_type": "code",
   "execution_count": null,
   "metadata": {},
   "outputs": [],
   "source": [
    "asset_dictionaries"
   ]
  },
  {
   "cell_type": "code",
   "execution_count": null,
   "metadata": {},
   "outputs": [],
   "source": [
    "from asset_tracker.models import *"
   ]
  },
  {
   "cell_type": "code",
   "execution_count": null,
   "metadata": {},
   "outputs": [],
   "source": [
    "# Print asset_id for each asset\n",
    "for asset_d in asset_dictionaries:\n",
    "    print(asset_d['id'])"
   ]
  },
  {
   "cell_type": "code",
   "execution_count": null,
   "metadata": {},
   "outputs": [],
   "source": [
    "db"
   ]
  },
  {
   "cell_type": "code",
   "execution_count": null,
   "metadata": {},
   "outputs": [],
   "source": [
    "import transaction\n",
    "\n",
    "with transaction.manager:\n",
    "    print(db.query(Asset).count())"
   ]
  },
  {
   "cell_type": "code",
   "execution_count": null,
   "metadata": {},
   "outputs": [],
   "source": [
    "# Check if asset id exists in database for each asset\n",
    "for asset_d in asset_dictionaries:\n",
    "    asset_id = asset_d['id']\n",
    "    asset = db.query(Asset).first()\n",
    "    print(asset)"
   ]
  },
  {
   "cell_type": "code",
   "execution_count": null,
   "metadata": {},
   "outputs": [],
   "source": [
    "db.query(Asset).count()"
   ]
  },
  {
   "cell_type": "code",
   "execution_count": null,
   "metadata": {},
   "outputs": [],
   "source": [
    "asset_dictionaries[0]"
   ]
  },
  {
   "cell_type": "code",
   "execution_count": null,
   "metadata": {},
   "outputs": [],
   "source": [
    "asset_dictionaries[1]"
   ]
  },
  {
   "cell_type": "code",
   "execution_count": null,
   "metadata": {},
   "outputs": [],
   "source": [
    "print(len(asset_dictionaries))"
   ]
  },
  {
   "cell_type": "code",
   "execution_count": null,
   "metadata": {},
   "outputs": [],
   "source": [
    "asset_d = asset_dictionaries[1]"
   ]
  },
  {
   "cell_type": "code",
   "execution_count": null,
   "metadata": {},
   "outputs": [],
   "source": [
    "asset_d['attributes']"
   ]
  },
  {
   "cell_type": "code",
   "execution_count": null,
   "metadata": {},
   "outputs": [],
   "source": [
    "asset_d['connections']"
   ]
  },
  {
   "cell_type": "code",
   "execution_count": null,
   "metadata": {},
   "outputs": [],
   "source": [
    "from asset_tracker.models import AssetTypeCode"
   ]
  },
  {
   "cell_type": "code",
   "execution_count": null,
   "metadata": {},
   "outputs": [],
   "source": [
    "if {}: print('hey')"
   ]
  },
  {
   "cell_type": "code",
   "execution_count": null,
   "metadata": {},
   "outputs": [],
   "source": [
    "import pickle\n",
    "pickle.dumps(None)"
   ]
  },
  {
   "cell_type": "code",
   "execution_count": null,
   "metadata": {},
   "outputs": [],
   "source": [
    "import pickle\n",
    "pickle.dumps({})"
   ]
  },
  {
   "cell_type": "code",
   "execution_count": null,
   "metadata": {},
   "outputs": [],
   "source": [
    "# Check if asset id exists in database for each asset\n",
    "asset_id_by_temporary_id = {}\n",
    "\n",
    "for asset_d in asset_dictionaries:\n",
    "    asset_id = asset_d['id']\n",
    "    try:\n",
    "        asset_type_code = AssetTypeCode(asset_d['typeCode'])\n",
    "    except ValueError:\n",
    "        # !!! we have an unrecognized type code\n",
    "        pass\n",
    "    asset_name = asset_d['name']\n",
    "    asset_attributes = asset_d.get('attributes', {})\n",
    "    \n",
    "    if asset_id in asset_id_by_temporary_id:\n",
    "        asset_id = asset_id_by_temporary_id[asset_id]\n",
    "    asset = db.query(Asset).get(asset_id)\n",
    "    if not asset:\n",
    "        asset = Asset.make_unique_record(db)\n",
    "        asset_id_by_temporary_id[asset_id] = asset.id\n",
    "        asset_id = asset.id\n",
    "    asset.type_code = asset_type_code\n",
    "    asset.name = asset_name\n",
    "    asset.attributes = asset_attributes\n",
    "    \n",
    "    print(asset.id, asset.type_code, asset.name)\n",
    "    db.add(asset)\n",
    "# db.commit()"
   ]
  },
  {
   "cell_type": "code",
   "execution_count": null,
   "metadata": {},
   "outputs": [],
   "source": [
    "asset_id_by_temporary_id"
   ]
  },
  {
   "cell_type": "code",
   "execution_count": null,
   "metadata": {},
   "outputs": [],
   "source": [
    "asset.attributes"
   ]
  },
  {
   "cell_type": "code",
   "execution_count": null,
   "metadata": {},
   "outputs": [],
   "source": [
    "# AssetTypeCode('x')"
   ]
  },
  {
   "cell_type": "code",
   "execution_count": null,
   "metadata": {},
   "outputs": [],
   "source": [
    "asset.type_code.value"
   ]
  },
  {
   "cell_type": "code",
   "execution_count": null,
   "metadata": {},
   "outputs": [],
   "source": [
    "db.query(Asset).count()"
   ]
  },
  {
   "cell_type": "code",
   "execution_count": null,
   "metadata": {},
   "outputs": [],
   "source": [
    "# For each asset,\n",
    "    # Save asset in database"
   ]
  },
  {
   "cell_type": "code",
   "execution_count": null,
   "metadata": {},
   "outputs": [],
   "source": [
    "from invisibleroads_macros_security import make_random_string\n",
    "make_random_string(10)"
   ]
  },
  {
   "cell_type": "code",
   "execution_count": null,
   "metadata": {},
   "outputs": [],
   "source": [
    "from enum import Enum\n",
    "\n",
    "class MyEnum(Enum):\n",
    "    one = 1\n",
    "    two = 2\n",
    "    three = 3\n",
    "\n",
    "MyEnum.one"
   ]
  },
  {
   "cell_type": "code",
   "execution_count": null,
   "metadata": {},
   "outputs": [],
   "source": [
    "import enum\n",
    "from sqlalchemy.types import Enum\n",
    "\n",
    "class AssetTypeCode(enum.Enum):\n",
    "    LINE = 'l'\n",
    "    METER = 'm'\n",
    "    TRANSFORMER = 't'\n",
    "    SUBSTATION = 's'"
   ]
  },
  {
   "cell_type": "code",
   "execution_count": null,
   "metadata": {},
   "outputs": [],
   "source": [
    "asset_d = asset_dictionaries[1]\n",
    "asset_d['connections']"
   ]
  },
  {
   "cell_type": "code",
   "execution_count": null,
   "metadata": {},
   "outputs": [],
   "source": [
    "db.query(Connection).get({'asset_id': 1, 'bus_id': 2})"
   ]
  },
  {
   "cell_type": "code",
   "execution_count": null,
   "metadata": {},
   "outputs": [],
   "source": [
    "from asset_tracker.models import Bus, Connection\n",
    "\n",
    "bus_id_by_temporary_id = {}\n",
    "\n",
    "for asset_d in asset_dictionaries:\n",
    "    asset_id = asset_d['id']\n",
    "    if asset_id in asset_id_by_temporary_id:\n",
    "        asset_id = asset_id_by_temporary_id[asset_id]\n",
    "    asset = db.query(Asset).get(asset_id)\n",
    "    for connection_d in asset_d.get('connections', []):\n",
    "        bus_id = connection_d['busId']\n",
    "        # If we recognize a temporary id,\n",
    "        if bus_id in bus_id_by_temporary_id:\n",
    "            # Use the permanent id\n",
    "            bus_id = bus_id_by_temporary_id[bus_id] \n",
    "        bus = db.query(Bus).get(bus_id)\n",
    "        if not bus:\n",
    "            bus = Bus.make_unique_record(db)\n",
    "            # Link temporary id to permanent id\n",
    "            bus_id_by_temporary_id[bus_id] = bus.id\n",
    "            bus_id = bus.id\n",
    "        db.add(bus)\n",
    "        connection = db.query(Connection).get({'asset_id': asset_id, 'bus_id': bus_id})\n",
    "        if not connection:\n",
    "            connection = Connection(asset_id=asset_id, bus_id=bus_id)\n",
    "        connection.attributes = connection_d.get('attributes', {})\n",
    "        db.add(connection)\n",
    "        # print(bus_id, connection.attributes)"
   ]
  },
  {
   "cell_type": "code",
   "execution_count": null,
   "metadata": {},
   "outputs": [],
   "source": [
    "for asset in db.query(Asset):\n",
    "    print('!!!', asset.id, asset.attributes, asset.connections)\n",
    "    for connection in asset.connections:\n",
    "        print(connection.attributes)"
   ]
  },
  {
   "cell_type": "code",
   "execution_count": null,
   "metadata": {},
   "outputs": [],
   "source": []
  }
 ],
 "metadata": {
  "kernelspec": {
   "display_name": "Python 3",
   "language": "python",
   "name": "python3"
  },
  "language_info": {
   "codemirror_mode": {
    "name": "ipython",
    "version": 3
   },
   "file_extension": ".py",
   "mimetype": "text/x-python",
   "name": "python",
   "nbconvert_exporter": "python",
   "pygments_lexer": "ipython3",
   "version": "3.7.6"
  }
 },
 "nbformat": 4,
 "nbformat_minor": 4
}
