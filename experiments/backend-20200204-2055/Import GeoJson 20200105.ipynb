{
 "cells": [
  {
   "cell_type": "code",
   "execution_count": 3,
   "metadata": {},
   "outputs": [
    {
     "name": "stdout",
     "output_type": "stream",
     "text": [
      "2020-02-07 03:43:22,428 INFO sqlalchemy.engine.base.Engine SELECT CAST('test plain returns' AS VARCHAR(60)) AS anon_1\n",
      "2020-02-07 03:43:22,429 INFO sqlalchemy.engine.base.Engine ()\n",
      "2020-02-07 03:43:22,431 INFO sqlalchemy.engine.base.Engine SELECT CAST('test unicode returns' AS VARCHAR(60)) AS anon_1\n",
      "2020-02-07 03:43:22,433 INFO sqlalchemy.engine.base.Engine ()\n",
      "2020-02-07 03:43:22,440 INFO sqlalchemy.engine.base.Engine SELECT InitSpatialMetaData() AS \"InitSpatialMetaData_1\"\n",
      "2020-02-07 03:43:22,442 INFO sqlalchemy.engine.base.Engine ()\n"
     ]
    },
    {
     "data": {
      "text/plain": [
       "Engine(sqlite://)"
      ]
     },
     "execution_count": 3,
     "metadata": {},
     "output_type": "execute_result"
    }
   ],
   "source": [
    "from asset_tracker.models import load_spatialite_sqlite_extension\n",
    "from sqlalchemy import create_engine\n",
    "\n",
    "database_engine = create_engine('sqlite://', echo=True)\n",
    "load_spatialite_sqlite_extension(database_engine)"
   ]
  },
  {
   "cell_type": "code",
   "execution_count": 4,
   "metadata": {},
   "outputs": [],
   "source": [
    "from sqlalchemy import create_engine\n",
    "from sqlalchemy.orm import sessionmaker\n",
    "\n",
    "get_database_session = sessionmaker()\n",
    "get_database_session.configure(bind=database_engine)\n",
    "db = get_database_session()"
   ]
  },
  {
   "cell_type": "code",
   "execution_count": 5,
   "metadata": {},
   "outputs": [
    {
     "name": "stdout",
     "output_type": "stream",
     "text": [
      "2020-02-07 03:43:23,246 INFO sqlalchemy.engine.base.Engine PRAGMA table_info(\"asset\")\n",
      "2020-02-07 03:43:23,248 INFO sqlalchemy.engine.base.Engine ()\n",
      "2020-02-07 03:43:23,249 INFO sqlalchemy.engine.base.Engine PRAGMA table_info(\"bus\")\n",
      "2020-02-07 03:43:23,250 INFO sqlalchemy.engine.base.Engine ()\n",
      "2020-02-07 03:43:23,251 INFO sqlalchemy.engine.base.Engine PRAGMA table_info(\"connection\")\n",
      "2020-02-07 03:43:23,252 INFO sqlalchemy.engine.base.Engine ()\n",
      "2020-02-07 03:43:23,253 INFO sqlalchemy.engine.base.Engine PRAGMA table_info(\"line_type\")\n",
      "2020-02-07 03:43:23,254 INFO sqlalchemy.engine.base.Engine ()\n",
      "2020-02-07 03:43:23,257 INFO sqlalchemy.engine.base.Engine \n",
      "CREATE TABLE asset (\n",
      "\tid VARCHAR NOT NULL, \n",
      "\tcreation_datetime DATETIME, \n",
      "\tmodification_datetime DATETIME, \n",
      "\tname VARCHAR, \n",
      "\ttype_code VARCHAR(11), \n",
      "\tattributes BLOB, \n",
      "\tCONSTRAINT pk_asset PRIMARY KEY (id), \n",
      "\tCHECK (type_code IN ('LINE', 'METER', 'TRANSFORMER', 'SUBSTATION'))\n",
      ")\n",
      "\n",
      "\n",
      "2020-02-07 03:43:23,259 INFO sqlalchemy.engine.base.Engine ()\n",
      "2020-02-07 03:43:23,264 INFO sqlalchemy.engine.base.Engine COMMIT\n",
      "2020-02-07 03:43:23,267 INFO sqlalchemy.engine.base.Engine SELECT AddGeometryColumn(?, ?, ?, ?, ?) AS \"AddGeometryColumn_1\"\n",
      "2020-02-07 03:43:23,268 INFO sqlalchemy.engine.base.Engine ('asset', 'geometry', -1, 'GEOMETRY', 2)\n",
      "2020-02-07 03:43:23,276 INFO sqlalchemy.engine.base.Engine COMMIT\n",
      "2020-02-07 03:43:23,282 INFO sqlalchemy.engine.base.Engine SELECT CreateSpatialIndex(?, ?) AS \"CreateSpatialIndex_1\"\n",
      "2020-02-07 03:43:23,284 INFO sqlalchemy.engine.base.Engine ('asset', 'geometry')\n",
      "2020-02-07 03:43:23,289 INFO sqlalchemy.engine.base.Engine COMMIT\n",
      "2020-02-07 03:43:23,291 INFO sqlalchemy.engine.base.Engine \n",
      "CREATE TABLE bus (\n",
      "\tid VARCHAR NOT NULL, \n",
      "\tCONSTRAINT pk_bus PRIMARY KEY (id)\n",
      ")\n",
      "\n",
      "\n",
      "2020-02-07 03:43:23,295 INFO sqlalchemy.engine.base.Engine ()\n",
      "2020-02-07 03:43:23,296 INFO sqlalchemy.engine.base.Engine COMMIT\n",
      "2020-02-07 03:43:23,298 INFO sqlalchemy.engine.base.Engine \n",
      "CREATE TABLE line_type (\n",
      "\tid VARCHAR NOT NULL, \n",
      "\tattributes BLOB, \n",
      "\tCONSTRAINT pk_line_type PRIMARY KEY (id)\n",
      ")\n",
      "\n",
      "\n",
      "2020-02-07 03:43:23,300 INFO sqlalchemy.engine.base.Engine ()\n",
      "2020-02-07 03:43:23,301 INFO sqlalchemy.engine.base.Engine COMMIT\n",
      "2020-02-07 03:43:23,305 INFO sqlalchemy.engine.base.Engine \n",
      "CREATE TABLE connection (\n",
      "\tasset_id VARCHAR NOT NULL, \n",
      "\tbus_id VARCHAR NOT NULL, \n",
      "\tattributes BLOB, \n",
      "\tCONSTRAINT pk_connection PRIMARY KEY (asset_id, bus_id), \n",
      "\tCONSTRAINT fk_connection_asset_id_asset FOREIGN KEY(asset_id) REFERENCES asset (id), \n",
      "\tCONSTRAINT fk_connection_bus_id_bus FOREIGN KEY(bus_id) REFERENCES bus (id)\n",
      ")\n",
      "\n",
      "\n",
      "2020-02-07 03:43:23,306 INFO sqlalchemy.engine.base.Engine ()\n",
      "2020-02-07 03:43:23,308 INFO sqlalchemy.engine.base.Engine COMMIT\n"
     ]
    }
   ],
   "source": [
    "from asset_tracker.models.meta import Base\n",
    "Base.metadata.create_all(database_engine)"
   ]
  },
  {
   "cell_type": "code",
   "execution_count": 5,
   "metadata": {},
   "outputs": [],
   "source": [
    "# Load JSON\n",
    "import json\n",
    "datasets_folder = join(repository_folder, 'datasets')\n",
    "assets_geojson_path = join(datasets_folder, 'assets1.geojson')"
   ]
  },
  {
   "cell_type": "code",
   "execution_count": 6,
   "metadata": {},
   "outputs": [
    {
     "data": {
      "text/plain": [
       "dict_keys(['type', 'features'])"
      ]
     },
     "execution_count": 6,
     "metadata": {},
     "output_type": "execute_result"
    }
   ],
   "source": [
    "asset_feature_collection = json.load(open(assets_geojson_path, 'rt'))\n",
    "asset_feature_collection.keys()"
   ]
  },
  {
   "cell_type": "code",
   "execution_count": 7,
   "metadata": {},
   "outputs": [
    {
     "data": {
      "text/plain": [
       "{'type': 'Feature',\n",
       " 'properties': {'id': 1},\n",
       " 'geometry': {'type': 'Polygon',\n",
       "  'coordinates': [[[-93.26308908888744, 37.24319981451458],\n",
       "    [-93.26318564841199, 37.24167951084914],\n",
       "    [-93.26111498305252, 37.24163680524727],\n",
       "    [-93.261018423528, 37.243216896403936],\n",
       "    [-93.26308908888744, 37.24319981451458]]]}}"
      ]
     },
     "execution_count": 7,
     "metadata": {},
     "output_type": "execute_result"
    }
   ],
   "source": [
    "asset_feature = asset_feature_collection['features'][0]\n",
    "asset_feature"
   ]
  },
  {
   "cell_type": "code",
   "execution_count": 15,
   "metadata": {},
   "outputs": [
    {
     "data": {
      "text/plain": [
       "shapely.geometry.polygon.Polygon"
      ]
     },
     "execution_count": 15,
     "metadata": {},
     "output_type": "execute_result"
    }
   ],
   "source": [
    "from shapely.geometry import shape\n",
    "type(shape(asset_feature['geometry']))"
   ]
  },
  {
   "cell_type": "code",
   "execution_count": 16,
   "metadata": {},
   "outputs": [
    {
     "data": {
      "image/svg+xml": [
       "<svg xmlns=\"http://www.w3.org/2000/svg\" xmlns:xlink=\"http://www.w3.org/1999/xlink\" width=\"100.0\" height=\"100.0\" viewBox=\"-93.26327233740734 37.24155011625191 0.002340602874696174 0.0017534691473883868\" preserveAspectRatio=\"xMinYMin meet\"><g transform=\"matrix(1,0,0,-1,0,74.4848537016512)\"><path fill-rule=\"evenodd\" fill=\"#66cc99\" stroke=\"#555555\" stroke-width=\"4.681205749392347e-05\" opacity=\"0.6\" d=\"M -93.26308908888744,37.24319981451458 L -93.26318564841199,37.24167951084914 L -93.26111498305252,37.24163680524727 L -93.261018423528,37.243216896403936 L -93.26308908888744,37.24319981451458 z\" /></g></svg>"
      ],
      "text/plain": [
       "<shapely.geometry.polygon.Polygon at 0x7fc6f03a3310>"
      ]
     },
     "execution_count": 16,
     "metadata": {},
     "output_type": "execute_result"
    }
   ],
   "source": [
    "geometry = shape(asset_feature['geometry'])\n",
    "geometry"
   ]
  },
  {
   "cell_type": "code",
   "execution_count": 17,
   "metadata": {},
   "outputs": [
    {
     "data": {
      "text/plain": [
       "<WKBElement at 0x7fc6f03a3550; 010300000001000000050000002f2d9e73d65057c0e0dde82b219f4240302d9e08d85057c0ec9aad5aef9e4240322d9e1bb65057c0020670f4ed9e4240332d9e86b45057c0dcf133bb219f42402f2d9e73d65057c0e0dde82b219f4240>"
      ]
     },
     "execution_count": 17,
     "metadata": {},
     "output_type": "execute_result"
    }
   ],
   "source": [
    "from geoalchemy2.shape import from_shape, to_shape\n",
    "from_shape(geometry)"
   ]
  },
  {
   "cell_type": "code",
   "execution_count": 19,
   "metadata": {},
   "outputs": [
    {
     "name": "stdout",
     "output_type": "stream",
     "text": [
      "010300000001000000050000002f2d9e73d65057c0e0dde82b219f4240302d9e08d85057c0ec9aad5aef9e4240322d9e1bb65057c0020670f4ed9e4240332d9e86b45057c0dcf133bb219f42402f2d9e73d65057c0e0dde82b219f4240\n",
      "0101000000302d9e93c55057c0efe39f940d9f4240\n",
      "0101000000332d9e6b485057c0f9475329889f4240\n",
      "010200000004000000302d9e93c55057c029860429099f4240332d9ee3b15057c0e01e99202a9f42402e2d9e2fb15057c03e5268376a9f4240302d9e6b485057c0c0a5ee948c9f4240\n"
     ]
    }
   ],
   "source": [
    "for asset_feature in asset_feature_collection['features']:\n",
    "    shapely_geometry = shape(asset_feature['geometry'])\n",
    "    print(from_shape(shapely_geometry))"
   ]
  }
 ],
 "metadata": {
  "kernelspec": {
   "display_name": "Python 3",
   "language": "python",
   "name": "python3"
  },
  "language_info": {
   "codemirror_mode": {
    "name": "ipython",
    "version": 3
   },
   "file_extension": ".py",
   "mimetype": "text/x-python",
   "name": "python",
   "nbconvert_exporter": "python",
   "pygments_lexer": "ipython3",
   "version": "3.7.6"
  }
 },
 "nbformat": 4,
 "nbformat_minor": 4
}
