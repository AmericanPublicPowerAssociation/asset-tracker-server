{
 "cells": [
  {
   "cell_type": "code",
   "execution_count": 1,
   "metadata": {},
   "outputs": [
    {
     "name": "stdout",
     "output_type": "stream",
     "text": [
      "2020-02-07 05:22:09,394 INFO sqlalchemy.engine.base.Engine SELECT CAST('test plain returns' AS VARCHAR(60)) AS anon_1\n",
      "2020-02-07 05:22:09,395 INFO sqlalchemy.engine.base.Engine ()\n",
      "2020-02-07 05:22:09,397 INFO sqlalchemy.engine.base.Engine SELECT CAST('test unicode returns' AS VARCHAR(60)) AS anon_1\n",
      "2020-02-07 05:22:09,399 INFO sqlalchemy.engine.base.Engine ()\n",
      "2020-02-07 05:22:09,407 INFO sqlalchemy.engine.base.Engine SELECT InitSpatialMetaData() AS \"InitSpatialMetaData_1\"\n",
      "2020-02-07 05:22:09,408 INFO sqlalchemy.engine.base.Engine ()\n"
     ]
    },
    {
     "data": {
      "text/plain": [
       "Engine(sqlite://)"
      ]
     },
     "execution_count": 1,
     "metadata": {},
     "output_type": "execute_result"
    }
   ],
   "source": [
    "from asset_tracker.models import load_spatialite_sqlite_extension\n",
    "from sqlalchemy import create_engine\n",
    "\n",
    "database_engine = create_engine('sqlite://', echo=True)\n",
    "load_spatialite_sqlite_extension(database_engine)"
   ]
  },
  {
   "cell_type": "code",
   "execution_count": 2,
   "metadata": {},
   "outputs": [],
   "source": [
    "from sqlalchemy import create_engine\n",
    "from sqlalchemy.orm import sessionmaker\n",
    "\n",
    "get_database_session = sessionmaker()\n",
    "get_database_session.configure(bind=database_engine)\n",
    "db = get_database_session()"
   ]
  },
  {
   "cell_type": "code",
   "execution_count": 3,
   "metadata": {},
   "outputs": [
    {
     "name": "stdout",
     "output_type": "stream",
     "text": [
      "2020-02-07 05:22:09,511 INFO sqlalchemy.engine.base.Engine PRAGMA table_info(\"asset\")\n",
      "2020-02-07 05:22:09,514 INFO sqlalchemy.engine.base.Engine ()\n",
      "2020-02-07 05:22:09,516 INFO sqlalchemy.engine.base.Engine PRAGMA table_info(\"bus\")\n",
      "2020-02-07 05:22:09,517 INFO sqlalchemy.engine.base.Engine ()\n",
      "2020-02-07 05:22:09,519 INFO sqlalchemy.engine.base.Engine PRAGMA table_info(\"connection\")\n",
      "2020-02-07 05:22:09,521 INFO sqlalchemy.engine.base.Engine ()\n",
      "2020-02-07 05:22:09,523 INFO sqlalchemy.engine.base.Engine PRAGMA table_info(\"line_type\")\n",
      "2020-02-07 05:22:09,524 INFO sqlalchemy.engine.base.Engine ()\n",
      "2020-02-07 05:22:09,528 INFO sqlalchemy.engine.base.Engine \n",
      "CREATE TABLE asset (\n",
      "\tid VARCHAR NOT NULL, \n",
      "\tcreation_datetime DATETIME, \n",
      "\tmodification_datetime DATETIME, \n",
      "\t_attributes BLOB, \n",
      "\ttype_code VARCHAR(11), \n",
      "\tname VARCHAR, \n",
      "\tCONSTRAINT pk_asset PRIMARY KEY (id), \n",
      "\tCONSTRAINT ck_asset_assettypecode CHECK (type_code IN ('LINE', 'METER', 'TRANSFORMER', 'SUBSTATION'))\n",
      ")\n",
      "\n",
      "\n",
      "2020-02-07 05:22:09,529 INFO sqlalchemy.engine.base.Engine ()\n",
      "2020-02-07 05:22:09,532 INFO sqlalchemy.engine.base.Engine COMMIT\n",
      "2020-02-07 05:22:09,535 INFO sqlalchemy.engine.base.Engine SELECT AddGeometryColumn(?, ?, ?, ?, ?) AS \"AddGeometryColumn_1\"\n",
      "2020-02-07 05:22:09,537 INFO sqlalchemy.engine.base.Engine ('asset', '_geometry', -1, 'GEOMETRY', 2)\n",
      "2020-02-07 05:22:09,544 INFO sqlalchemy.engine.base.Engine COMMIT\n",
      "2020-02-07 05:22:09,548 INFO sqlalchemy.engine.base.Engine SELECT CreateSpatialIndex(?, ?) AS \"CreateSpatialIndex_1\"\n",
      "2020-02-07 05:22:09,550 INFO sqlalchemy.engine.base.Engine ('asset', '_geometry')\n",
      "2020-02-07 05:22:09,554 INFO sqlalchemy.engine.base.Engine COMMIT\n",
      "2020-02-07 05:22:09,557 INFO sqlalchemy.engine.base.Engine \n",
      "CREATE TABLE bus (\n",
      "\tid VARCHAR NOT NULL, \n",
      "\tCONSTRAINT pk_bus PRIMARY KEY (id)\n",
      ")\n",
      "\n",
      "\n",
      "2020-02-07 05:22:09,559 INFO sqlalchemy.engine.base.Engine ()\n",
      "2020-02-07 05:22:09,561 INFO sqlalchemy.engine.base.Engine COMMIT\n",
      "2020-02-07 05:22:09,563 INFO sqlalchemy.engine.base.Engine \n",
      "CREATE TABLE line_type (\n",
      "\t_attributes BLOB, \n",
      "\tid VARCHAR NOT NULL, \n",
      "\tCONSTRAINT pk_line_type PRIMARY KEY (id)\n",
      ")\n",
      "\n",
      "\n",
      "2020-02-07 05:22:09,564 INFO sqlalchemy.engine.base.Engine ()\n",
      "2020-02-07 05:22:09,565 INFO sqlalchemy.engine.base.Engine COMMIT\n",
      "2020-02-07 05:22:09,567 INFO sqlalchemy.engine.base.Engine \n",
      "CREATE TABLE connection (\n",
      "\t_attributes BLOB, \n",
      "\tasset_id VARCHAR NOT NULL, \n",
      "\tbus_id VARCHAR NOT NULL, \n",
      "\tCONSTRAINT pk_connection PRIMARY KEY (asset_id, bus_id), \n",
      "\tCONSTRAINT fk_connection_asset_id_asset FOREIGN KEY(asset_id) REFERENCES asset (id), \n",
      "\tCONSTRAINT fk_connection_bus_id_bus FOREIGN KEY(bus_id) REFERENCES bus (id)\n",
      ")\n",
      "\n",
      "\n",
      "2020-02-07 05:22:09,568 INFO sqlalchemy.engine.base.Engine ()\n",
      "2020-02-07 05:22:09,569 INFO sqlalchemy.engine.base.Engine COMMIT\n"
     ]
    }
   ],
   "source": [
    "from asset_tracker.models.meta import Base\n",
    "Base.metadata.create_all(database_engine)"
   ]
  },
  {
   "cell_type": "code",
   "execution_count": 4,
   "metadata": {},
   "outputs": [],
   "source": [
    "from asset_tracker.models import Asset, AssetTypeCode"
   ]
  },
  {
   "cell_type": "code",
   "execution_count": 5,
   "metadata": {},
   "outputs": [],
   "source": [
    "asset = Asset(id='a', type_code=AssetTypeCode('t'))"
   ]
  },
  {
   "cell_type": "code",
   "execution_count": 6,
   "metadata": {},
   "outputs": [
    {
     "data": {
      "text/plain": [
       "<AssetTypeCode.TRANSFORMER: 't'>"
      ]
     },
     "execution_count": 6,
     "metadata": {},
     "output_type": "execute_result"
    }
   ],
   "source": [
    "asset.type_code"
   ]
  },
  {
   "cell_type": "code",
   "execution_count": 7,
   "metadata": {},
   "outputs": [
    {
     "data": {
      "text/plain": [
       "'{\"id\": \"a\", \"type_code\": \"t\", \"name\": null, \"attributes\": {}, \"connections\": []}'"
      ]
     },
     "execution_count": 7,
     "metadata": {},
     "output_type": "execute_result"
    }
   ],
   "source": [
    "import json\n",
    "json.dumps(asset.get_json_dictionary())"
   ]
  },
  {
   "cell_type": "code",
   "execution_count": null,
   "metadata": {},
   "outputs": [],
   "source": []
  },
  {
   "cell_type": "code",
   "execution_count": 8,
   "metadata": {},
   "outputs": [
    {
     "ename": "AttributeError",
     "evalue": "'NoneType' object has no attribute '__geo_interface__'",
     "output_type": "error",
     "traceback": [
      "\u001b[0;31m---------------------------------------------------------------------------\u001b[0m",
      "\u001b[0;31mAttributeError\u001b[0m                            Traceback (most recent call last)",
      "\u001b[0;32m<ipython-input-8-458d4f4d1fe7>\u001b[0m in \u001b[0;36m<module>\u001b[0;34m\u001b[0m\n\u001b[1;32m      1\u001b[0m \u001b[0;32mfrom\u001b[0m \u001b[0mshapely\u001b[0m\u001b[0;34m.\u001b[0m\u001b[0mgeometry\u001b[0m \u001b[0;32mimport\u001b[0m \u001b[0mmapping\u001b[0m\u001b[0;34m\u001b[0m\u001b[0;34m\u001b[0m\u001b[0m\n\u001b[0;32m----> 2\u001b[0;31m \u001b[0mmapping\u001b[0m\u001b[0;34m(\u001b[0m\u001b[0;32mNone\u001b[0m\u001b[0;34m)\u001b[0m\u001b[0;34m\u001b[0m\u001b[0;34m\u001b[0m\u001b[0m\n\u001b[0m",
      "\u001b[0;32m~/.virtualenvs/crosscompute/lib/python3.7/site-packages/shapely/geometry/geo.py\u001b[0m in \u001b[0;36mmapping\u001b[0;34m(ob)\u001b[0m\n\u001b[1;32m     83\u001b[0m \u001b[0;32mdef\u001b[0m \u001b[0mmapping\u001b[0m\u001b[0;34m(\u001b[0m\u001b[0mob\u001b[0m\u001b[0;34m)\u001b[0m\u001b[0;34m:\u001b[0m\u001b[0;34m\u001b[0m\u001b[0;34m\u001b[0m\u001b[0m\n\u001b[1;32m     84\u001b[0m     \u001b[0;34m\"\"\"Returns a GeoJSON-like mapping\"\"\"\u001b[0m\u001b[0;34m\u001b[0m\u001b[0;34m\u001b[0m\u001b[0m\n\u001b[0;32m---> 85\u001b[0;31m     \u001b[0;32mreturn\u001b[0m \u001b[0mob\u001b[0m\u001b[0;34m.\u001b[0m\u001b[0m__geo_interface__\u001b[0m\u001b[0;34m\u001b[0m\u001b[0;34m\u001b[0m\u001b[0m\n\u001b[0m",
      "\u001b[0;31mAttributeError\u001b[0m: 'NoneType' object has no attribute '__geo_interface__'"
     ]
    }
   ],
   "source": [
    "from shapely.geometry import mapping\n",
    "mapping(None)"
   ]
  }
 ],
 "metadata": {
  "kernelspec": {
   "display_name": "Python 3",
   "language": "python",
   "name": "python3"
  },
  "language_info": {
   "codemirror_mode": {
    "name": "ipython",
    "version": 3
   },
   "file_extension": ".py",
   "mimetype": "text/x-python",
   "name": "python",
   "nbconvert_exporter": "python",
   "pygments_lexer": "ipython3",
   "version": "3.7.6"
  }
 },
 "nbformat": 4,
 "nbformat_minor": 4
}
